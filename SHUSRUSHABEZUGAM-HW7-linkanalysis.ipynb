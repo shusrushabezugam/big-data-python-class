{
 "cells": [
  {
   "cell_type": "markdown",
   "metadata": {},
   "source": [
    " 7.1  Create a crawler using the webcrawler provided and discussed in my jupyter notebook ( https://github.com/pschragger/big-data-python-class/blob/master/Lectures/Lecture_7_-_Link_Analysis.ipynb) , have it crawl the first 200 pages from a base URL of your choosing\n",
    " \n",
    "7.2  Create a Stochastic matrix from its resulting crawling as per https://cs7083.wordpress.com/2013/01/31/demystifying-the-pagerank-and-hits-algorithms/\n",
    "\n",
    "7.3 Pass it through the Page Rank algorithm and provide the list of the top 5 page URLs in your sample\n",
    "\n",
    "7.x For extra credit use the hits algorithm ( with a connectivity matrix )\n",
    "\n",
    "7.xx For advanced credit find another ranking alogrithm and demonstrate that as wel"
   ]
  },
  {
   "cell_type": "code",
   "execution_count": 3,
   "metadata": {},
   "outputs": [
    {
     "name": "stdout",
     "output_type": "stream",
     "text": [
      "C:\\Users\\AsusGo\\Desktop\\big-data\\Lectures\\SB_LinkAnalysis_Project\n"
     ]
    }
   ],
   "source": [
    "cd SB_LinkAnalysis_Project\n"
   ]
  },
  {
   "cell_type": "code",
   "execution_count": 4,
   "metadata": {
    "collapsed": true
   },
   "outputs": [],
   "source": [
    "# %load SB_LinkAnalysis_Project/SB_LinkAnalysis_Project/items.py\n",
    "# Define here the models for your scraped items\n",
    "#\n",
    "# See documentation in:\n",
    "# http://doc.scrapy.org/en/latest/topics/items.html\n",
    "\n",
    "import scrapy\n",
    "\n",
    "\n",
    "class SBLinkAnalysisItem(scrapy.Item):\n",
    "    # define the fields for your item here like:\n",
    "    # name = scrapy.Field()\n",
    "    pass\n",
    "\n",
    "## Adding container to hold scraped data using scrapy.Item as the parent class\n",
    "class CourseeraItem(scrapy.Item):\n",
    "    title = scrapy.Field()\n",
    "    link = scrapy.Field()\n",
    "    desc = scrapy.Field()"
   ]
  },
  {
   "cell_type": "code",
   "execution_count": 5,
   "metadata": {
    "collapsed": true
   },
   "outputs": [],
   "source": [
    "# %load SB_LinkAnalysis_Project/SB_LinkAnalysis_Project/spiders/coursera_spider.py\n",
    "import scrapy\n",
    "\n",
    "class CeSpider(scrapy.Spider):\n",
    "    name = \"coursera\"\n",
    "    allowed_domains = [\".coursera.org\"]\n",
    "    start_urls = [\"https://www.coursera.org/browse/computer-science?languages=en\",\"https://www.coursera.org/browse/data-science?languages=en\"]\n",
    "\n",
    "    def parse(self, response):\n",
    "                  f.write(response.body)\n"
   ]
  },
  {
   "cell_type": "code",
   "execution_count": 12,
   "metadata": {},
   "outputs": [
    {
     "name": "stdout",
     "output_type": "stream",
     "text": [
      "C:\\Users\\AsusGo\\Desktop\\big-data\\Lectures\\SB_LinkAnalysis_Project\\SB_LinkAnalysis_Project\n"
     ]
    }
   ],
   "source": [
    "cd SB_LinkAnalysis_Project"
   ]
  },
  {
   "cell_type": "code",
   "execution_count": 20,
   "metadata": {
    "collapsed": true
   },
   "outputs": [],
   "source": [
    "import requests\n",
    "from scrapy.http import TextResponse\n",
    "\n",
    "#running scrappy to get a response from a URL\n",
    "r = requests.get('https://www.coursera.org/','https://www.coursera.org/browse/computer-science?languages=en')\n",
    "response = TextResponse(r.url, body=r.text, encoding='utf-8')"
   ]
  },
  {
   "cell_type": "code",
   "execution_count": 21,
   "metadata": {},
   "outputs": [
    {
     "name": "stdout",
     "output_type": "stream",
     "text": [
      "<200 https://www.coursera.org/?https://www.coursera.org/browse/computer-science?languages=en>\n"
     ]
    }
   ],
   "source": [
    "print response"
   ]
  },
  {
   "cell_type": "code",
   "execution_count": 22,
   "metadata": {},
   "outputs": [
    {
     "data": {
      "text/plain": [
       "[<Selector xpath='//title' data=u'<title data-react-helmet=\"true\">Coursera'>]"
      ]
     },
     "execution_count": 22,
     "metadata": {},
     "output_type": "execute_result"
    }
   ],
   "source": [
    "#Using xpath to access data\n",
    "response.xpath('//title')"
   ]
  },
  {
   "cell_type": "code",
   "execution_count": 23,
   "metadata": {},
   "outputs": [
    {
     "data": {
      "text/plain": [
       "[u'Coursera | Online Courses From Top Universities. Join for Free']"
      ]
     },
     "execution_count": 23,
     "metadata": {},
     "output_type": "execute_result"
    }
   ],
   "source": [
    "response.xpath('//title/text()').extract()"
   ]
  },
  {
   "cell_type": "code",
   "execution_count": 24,
   "metadata": {},
   "outputs": [
    {
     "data": {
      "text/plain": [
       "[<Selector xpath='//ul/li' data=u'<li class=\"c-ph-right-nav-button c-ph-ri'>,\n",
       " <Selector xpath='//ul/li' data=u'<li class=\"c-ph-right-nav-button c-ph-ri'>,\n",
       " <Selector xpath='//ul/li' data=u'<li class=\"c-ph-right-nav-button c-ph-en'>,\n",
       " <Selector xpath='//ul/li' data=u'<li class=\"c-ph-right-nav-button c-ph-lo'>,\n",
       " <Selector xpath='//ul/li' data=u'<li class=\"c-ph-right-nav-button c-ph-si'>,\n",
       " <Selector xpath='//ul/li' data=u'<li data-reactid=\"1521\"><div class=\"body'>,\n",
       " <Selector xpath='//ul/li' data=u'<li data-reactid=\"1523\"><a class=\"dim\" h'>,\n",
       " <Selector xpath='//ul/li' data=u'<li data-reactid=\"1525\"><a class=\"dim\" h'>,\n",
       " <Selector xpath='//ul/li' data=u'<li data-reactid=\"1527\"><a class=\"dim\" h'>,\n",
       " <Selector xpath='//ul/li' data=u'<li data-reactid=\"1529\"><a class=\"dim\" h'>,\n",
       " <Selector xpath='//ul/li' data=u'<li data-reactid=\"1531\"><a class=\"dim\" h'>,\n",
       " <Selector xpath='//ul/li' data=u'<li data-reactid=\"1533\"><a class=\"dim\" h'>,\n",
       " <Selector xpath='//ul/li' data=u'<li data-reactid=\"1535\"><a class=\"dim\" h'>,\n",
       " <Selector xpath='//ul/li' data=u'<li data-reactid=\"1537\"><a class=\"dim\" h'>,\n",
       " <Selector xpath='//ul/li' data=u'<li data-reactid=\"1540\"><div class=\"body'>,\n",
       " <Selector xpath='//ul/li' data=u'<li data-reactid=\"1542\"><a class=\"dim\" h'>,\n",
       " <Selector xpath='//ul/li' data=u'<li data-reactid=\"1544\"><a class=\"dim\" h'>,\n",
       " <Selector xpath='//ul/li' data=u'<li data-reactid=\"1546\"><a class=\"dim\" h'>,\n",
       " <Selector xpath='//ul/li' data=u'<li data-reactid=\"1548\"><a class=\"dim\" h'>,\n",
       " <Selector xpath='//ul/li' data=u'<li data-reactid=\"1550\"><a class=\"dim\" h'>,\n",
       " <Selector xpath='//ul/li' data=u'<li data-reactid=\"1553\"><div class=\"body'>,\n",
       " <Selector xpath='//ul/li' data=u'<li data-reactid=\"1555\"><a class=\"dim\" h'>,\n",
       " <Selector xpath='//ul/li' data=u'<li data-reactid=\"1557\"><a class=\"dim\" h'>,\n",
       " <Selector xpath='//ul/li' data=u'<li data-reactid=\"1559\"><a class=\"dim\" h'>,\n",
       " <Selector xpath='//ul/li' data=u'<li data-reactid=\"1561\"><a class=\"dim\" h'>,\n",
       " <Selector xpath='//ul/li' data=u'<li data-reactid=\"1563\"><a class=\"dim\" h'>,\n",
       " <Selector xpath='//ul/li' data=u'<li data-reactid=\"1565\"><a class=\"dim\" h'>,\n",
       " <Selector xpath='//ul/li' data=u'<li data-reactid=\"1568\"><div class=\"body'>,\n",
       " <Selector xpath='//ul/li' data=u'<li data-reactid=\"1570\"><a class=\"dim\" h'>,\n",
       " <Selector xpath='//ul/li' data=u'<li data-reactid=\"1572\"><a class=\"dim\" h'>,\n",
       " <Selector xpath='//ul/li' data=u'<li data-reactid=\"1574\"><a class=\"dim\" h'>,\n",
       " <Selector xpath='//ul/li' data=u'<li data-reactid=\"1576\"><a class=\"dim\" h'>,\n",
       " <Selector xpath='//ul/li' data=u'<li data-reactid=\"1578\"><a class=\"dim\" h'>,\n",
       " <Selector xpath='//ul/li' data=u'<li data-reactid=\"1580\"><a class=\"dim\" h'>,\n",
       " <Selector xpath='//ul/li' data=u'<li data-reactid=\"1582\"><a class=\"dim\" h'>,\n",
       " <Selector xpath='//ul/li' data=u'<li data-reactid=\"1584\"><a class=\"dim\" h'>]"
      ]
     },
     "execution_count": 24,
     "metadata": {},
     "output_type": "execute_result"
    }
   ],
   "source": [
    "response.xpath('//ul/li')"
   ]
  },
  {
   "cell_type": "code",
   "execution_count": 26,
   "metadata": {},
   "outputs": [
    {
     "data": {
      "text/plain": [
       "[u'/browse',\n",
       " u'/courses',\n",
       " u'/enterprise',\n",
       " u'/?authMode=login&https%3A%2F%2Fwww.coursera.org%2Fbrowse%2Fcomputer-science%3Flanguages=en',\n",
       " u'/?authMode=signup&https%3A%2F%2Fwww.coursera.org%2Fbrowse%2Fcomputer-science%3Flanguages=en',\n",
       " u'https://about.coursera.org/',\n",
       " u'https://about.coursera.org/leadership',\n",
       " u'/about/careers',\n",
       " u'/browse',\n",
       " u'/professional-certificate',\n",
       " u'/degrees',\n",
       " u'/enterprise',\n",
       " u'/government',\n",
       " u'/about/partners',\n",
       " u'http://www.coursera.community/#mentor',\n",
       " u'http://www.coursera.community/#gtc',\n",
       " u'https://building.coursera.org/developer-program/',\n",
       " u'http://www.coursera.community/#beta-tester',\n",
       " u'http://blog.coursera.org',\n",
       " u'https://www.facebook.com/Coursera',\n",
       " u'https://www.linkedin.com/company/coursera',\n",
       " u'http://twitter.com/coursera',\n",
       " u'https://plus.google.com/+Coursera',\n",
       " u'https://building.coursera.org',\n",
       " u'/about/terms',\n",
       " u'/about/privacy',\n",
       " u'https://learner.coursera.help/hc',\n",
       " u'https://learner.coursera.help/hc/en-us/articles/208280056-Accommodations-for-learners-with-disabilities',\n",
       " u'/about/press',\n",
       " u'/about/contact',\n",
       " u'/directory',\n",
       " u'https://about.coursera.org/affiliates']"
      ]
     },
     "execution_count": 26,
     "metadata": {},
     "output_type": "execute_result"
    }
   ],
   "source": [
    "response.xpath('//ul/li/a/@href').extract()"
   ]
  },
  {
   "cell_type": "code",
   "execution_count": 27,
   "metadata": {
    "collapsed": true
   },
   "outputs": [],
   "source": [
    "# %load -r 1-20  code/Scrapy-Samples-master/crawlspider/items.csv"
   ]
  },
  {
   "cell_type": "code",
   "execution_count": 29,
   "metadata": {},
   "outputs": [
    {
     "ename": "SyntaxError",
     "evalue": "invalid syntax (<ipython-input-29-35f3f0b14138>, line 1)",
     "output_type": "error",
     "traceback": [
      "\u001b[1;36m  File \u001b[1;32m\"<ipython-input-29-35f3f0b14138>\"\u001b[1;36m, line \u001b[1;32m1\u001b[0m\n\u001b[1;33m    $scrapy runspider coursera_spider.py\u001b[0m\n\u001b[1;37m    ^\u001b[0m\n\u001b[1;31mSyntaxError\u001b[0m\u001b[1;31m:\u001b[0m invalid syntax\n"
     ]
    }
   ],
   "source": [
    "scrapy runspider coursera_spider.py"
   ]
  },
  {
   "cell_type": "markdown",
   "metadata": {},
   "source": [
    "References:\n",
    "\n",
    " https://github.com/pschragger/big-data-python-class/blob/master/Lectures/Lecture_7_-_Link_Analysis.ipynb\n",
    " \n",
    " https://www.youtube.com/watch?v=O_j3OTXw2_E\n",
    " \n",
    " Source:\n",
    " \n",
    " https://www.coursera.org/\n",
    " "
   ]
  }
 ],
 "metadata": {
  "kernelspec": {
   "display_name": "Python 2",
   "language": "python",
   "name": "python2"
  }
 },
 "nbformat": 4,
 "nbformat_minor": 2
}
