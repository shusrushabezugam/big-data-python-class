{
 "cells": [
  {
   "cell_type": "markdown",
   "metadata": {},
   "source": [
    "# Homework 3  - Tryout pandas and numpy\n",
    "\n",
    "Copy this notebook. Rename it as: YOURNAME-Homework-panda-numpy-Sept-2017\n",
    "\n",
    "with your name replacing yourname and  replaced with the date you submit or to the last part.\n",
    "\n",
    "Do the homeworks problems below.\n",
    "\n",
    "Upload your completed jupyter notebook to your github site and send me the url via the elearning site as your homework submission. Please note that you need to do your own 3.4, and 3.5 if you share data and analysis from others then you cannot get more than a 3.  "
   ]
  },
  {
   "cell_type": "markdown",
   "metadata": {},
   "source": [
    "## Homework 3.1\n",
    "\n",
    "### 3.1.a\n",
    "Load the data from: http://opendata.dc.gov/datasets that I have include in this github   \n",
    "into a dataframe.  ( The file has been is available in directory ./data/ccp_current_csv.csv )"
   ]
  },
  {
   "cell_type": "code",
   "execution_count": 31,
   "metadata": {},
   "outputs": [
    {
     "data": {
      "text/html": [
       "<div>\n",
       "<style>\n",
       "    .dataframe thead tr:only-child th {\n",
       "        text-align: right;\n",
       "    }\n",
       "\n",
       "    .dataframe thead th {\n",
       "        text-align: left;\n",
       "    }\n",
       "\n",
       "    .dataframe tbody tr th {\n",
       "        vertical-align: top;\n",
       "    }\n",
       "</style>\n",
       "<table border=\"1\" class=\"dataframe\">\n",
       "  <thead>\n",
       "    <tr style=\"text-align: right;\">\n",
       "      <th></th>\n",
       "      <th>STREET</th>\n",
       "      <th>QUADRANT</th>\n",
       "      <th>FROMINTERSECTION</th>\n",
       "      <th>TOINTERSECTION</th>\n",
       "      <th>NOOFBLOCKS</th>\n",
       "      <th>WORKDESCRIPTION</th>\n",
       "      <th>YEARBUDGETED</th>\n",
       "      <th>PERCENTCOMPLETED</th>\n",
       "      <th>STATUS</th>\n",
       "      <th>MILES</th>\n",
       "      <th>...</th>\n",
       "      <th>YCOORD</th>\n",
       "      <th>LATITUDE</th>\n",
       "      <th>LONGITUDE</th>\n",
       "      <th>PROJECTNOTE</th>\n",
       "      <th>PROJECTNAME</th>\n",
       "      <th>PROJECTMGR</th>\n",
       "      <th>PROJECTID</th>\n",
       "      <th>TEAMREP</th>\n",
       "      <th>EMAIL</th>\n",
       "      <th>CONTACTPHONE</th>\n",
       "    </tr>\n",
       "  </thead>\n",
       "  <tbody>\n",
       "    <tr>\n",
       "      <th>0</th>\n",
       "      <td>13th St</td>\n",
       "      <td>NW</td>\n",
       "      <td>Kennedy St</td>\n",
       "      <td>Longfellow St</td>\n",
       "      <td>1</td>\n",
       "      <td>Pavement Resurface/restoration</td>\n",
       "      <td>2004</td>\n",
       "      <td>100</td>\n",
       "      <td>Completed</td>\n",
       "      <td>0.07</td>\n",
       "      <td>...</td>\n",
       "      <td>143205.11981</td>\n",
       "      <td>38.956747</td>\n",
       "      <td>-77.029694</td>\n",
       "      <td>NaN</td>\n",
       "      <td>FedAid</td>\n",
       "      <td>Paul Stephenson</td>\n",
       "      <td>5834</td>\n",
       "      <td>O. Hill</td>\n",
       "      <td>NaN</td>\n",
       "      <td>202-671-4591</td>\n",
       "    </tr>\n",
       "    <tr>\n",
       "      <th>1</th>\n",
       "      <td>S St</td>\n",
       "      <td>NW</td>\n",
       "      <td>North Capitol St</td>\n",
       "      <td>3rd St</td>\n",
       "      <td>3</td>\n",
       "      <td>Regular Cover</td>\n",
       "      <td>1999</td>\n",
       "      <td>100</td>\n",
       "      <td>Completed</td>\n",
       "      <td>0.33</td>\n",
       "      <td>...</td>\n",
       "      <td>138468.90256</td>\n",
       "      <td>38.914085</td>\n",
       "      <td>-77.012411</td>\n",
       "      <td>NaN</td>\n",
       "      <td>NaN</td>\n",
       "      <td>NaN</td>\n",
       "      <td>2467</td>\n",
       "      <td>NaN</td>\n",
       "      <td>NaN</td>\n",
       "      <td>NaN</td>\n",
       "    </tr>\n",
       "    <tr>\n",
       "      <th>2</th>\n",
       "      <td>Rhode Island Ave</td>\n",
       "      <td>NE</td>\n",
       "      <td>Brentwood Rd (W)</td>\n",
       "      <td>Brentwood Rd (M)</td>\n",
       "      <td>1</td>\n",
       "      <td>Pavement Resurface/restoration</td>\n",
       "      <td>2004</td>\n",
       "      <td>100</td>\n",
       "      <td>Completed</td>\n",
       "      <td>0.09</td>\n",
       "      <td>...</td>\n",
       "      <td>139574.10659</td>\n",
       "      <td>38.924041</td>\n",
       "      <td>-76.987221</td>\n",
       "      <td>NaN</td>\n",
       "      <td>Fedral Aid Citywide Pavement Restoration</td>\n",
       "      <td>Mohamed Abdullahi</td>\n",
       "      <td>5486</td>\n",
       "      <td>Said Cherifi</td>\n",
       "      <td>said.cherifi@dc.gov</td>\n",
       "      <td>202-671-4611</td>\n",
       "    </tr>\n",
       "    <tr>\n",
       "      <th>3</th>\n",
       "      <td>Mill Rd</td>\n",
       "      <td>NW</td>\n",
       "      <td>27th St</td>\n",
       "      <td>Cul De Sac</td>\n",
       "      <td>1</td>\n",
       "      <td>Pavement Resurface/restoration</td>\n",
       "      <td>2004</td>\n",
       "      <td>100</td>\n",
       "      <td>Completed</td>\n",
       "      <td>0.07</td>\n",
       "      <td>...</td>\n",
       "      <td>138132.90198</td>\n",
       "      <td>38.911046</td>\n",
       "      <td>-77.054077</td>\n",
       "      <td>POKA-2003-B-0048-JJ</td>\n",
       "      <td>Citywide Pavement Restoration Contract (Local ...</td>\n",
       "      <td>Maduabuchi Udeh</td>\n",
       "      <td>5796</td>\n",
       "      <td>Michael Jelen</td>\n",
       "      <td>Michael.Jelen@dc.gov</td>\n",
       "      <td>202-671-4542</td>\n",
       "    </tr>\n",
       "    <tr>\n",
       "      <th>4</th>\n",
       "      <td>Rhode Island Ave</td>\n",
       "      <td>NE</td>\n",
       "      <td>Brentwood Rd (M)</td>\n",
       "      <td>14th St  Evarts St  Montan</td>\n",
       "      <td>2</td>\n",
       "      <td>Pavement Resurface/restoration</td>\n",
       "      <td>2005</td>\n",
       "      <td>100</td>\n",
       "      <td>Completed</td>\n",
       "      <td>0.16</td>\n",
       "      <td>...</td>\n",
       "      <td>139657.25318</td>\n",
       "      <td>38.924790</td>\n",
       "      <td>-76.985068</td>\n",
       "      <td>NaN</td>\n",
       "      <td>NaN</td>\n",
       "      <td>NaN</td>\n",
       "      <td>8237</td>\n",
       "      <td>NaN</td>\n",
       "      <td>NaN</td>\n",
       "      <td>NaN</td>\n",
       "    </tr>\n",
       "  </tbody>\n",
       "</table>\n",
       "<p>5 rows × 27 columns</p>\n",
       "</div>"
      ],
      "text/plain": [
       "             STREET QUADRANT  FROMINTERSECTION              TOINTERSECTION  \\\n",
       "0           13th St       NW        Kennedy St               Longfellow St   \n",
       "1              S St       NW  North Capitol St                      3rd St   \n",
       "2  Rhode Island Ave       NE  Brentwood Rd (W)            Brentwood Rd (M)   \n",
       "3           Mill Rd       NW           27th St                  Cul De Sac   \n",
       "4  Rhode Island Ave       NE  Brentwood Rd (M)  14th St  Evarts St  Montan   \n",
       "\n",
       "   NOOFBLOCKS                 WORKDESCRIPTION  YEARBUDGETED  PERCENTCOMPLETED  \\\n",
       "0           1  Pavement Resurface/restoration          2004               100   \n",
       "1           3                   Regular Cover          1999               100   \n",
       "2           1  Pavement Resurface/restoration          2004               100   \n",
       "3           1  Pavement Resurface/restoration          2004               100   \n",
       "4           2  Pavement Resurface/restoration          2005               100   \n",
       "\n",
       "      STATUS  MILES      ...             YCOORD   LATITUDE  LONGITUDE  \\\n",
       "0  Completed   0.07      ...       143205.11981  38.956747 -77.029694   \n",
       "1  Completed   0.33      ...       138468.90256  38.914085 -77.012411   \n",
       "2  Completed   0.09      ...       139574.10659  38.924041 -76.987221   \n",
       "3  Completed   0.07      ...       138132.90198  38.911046 -77.054077   \n",
       "4  Completed   0.16      ...       139657.25318  38.924790 -76.985068   \n",
       "\n",
       "           PROJECTNOTE                                        PROJECTNAME  \\\n",
       "0                  NaN                                             FedAid   \n",
       "1                  NaN                                                NaN   \n",
       "2                  NaN           Fedral Aid Citywide Pavement Restoration   \n",
       "3  POKA-2003-B-0048-JJ  Citywide Pavement Restoration Contract (Local ...   \n",
       "4                  NaN                                                NaN   \n",
       "\n",
       "          PROJECTMGR  PROJECTID        TEAMREP                 EMAIL  \\\n",
       "0    Paul Stephenson       5834        O. Hill                   NaN   \n",
       "1                NaN       2467            NaN                   NaN   \n",
       "2  Mohamed Abdullahi       5486   Said Cherifi   said.cherifi@dc.gov   \n",
       "3    Maduabuchi Udeh       5796  Michael Jelen  Michael.Jelen@dc.gov   \n",
       "4                NaN       8237            NaN                   NaN   \n",
       "\n",
       "   CONTACTPHONE  \n",
       "0  202-671-4591  \n",
       "1           NaN  \n",
       "2  202-671-4611  \n",
       "3  202-671-4542  \n",
       "4           NaN  \n",
       "\n",
       "[5 rows x 27 columns]"
      ]
     },
     "execution_count": 31,
     "metadata": {},
     "output_type": "execute_result"
    }
   ],
   "source": [
    "import pandas as pd\n",
    "data_frame=pd.read_csv(\"C:\\Users\\AsusGo\\Desktop\\ccp_current_csv.csv\")\n",
    "data_frame.head(5)\n"
   ]
  },
  {
   "cell_type": "markdown",
   "metadata": {},
   "source": [
    "### 3.1.a  what is its shape and what does that mean?"
   ]
  },
  {
   "cell_type": "code",
   "execution_count": 32,
   "metadata": {},
   "outputs": [
    {
     "data": {
      "text/plain": [
       "(465, 27)"
      ]
     },
     "execution_count": 32,
     "metadata": {},
     "output_type": "execute_result"
    }
   ],
   "source": [
    "data_frame.shape"
   ]
  },
  {
   "cell_type": "markdown",
   "metadata": {},
   "source": [
    "Shape will let us know number of columns and rows.As it has returned that there are 565 rows and 27 columns in the csv file above."
   ]
  },
  {
   "cell_type": "markdown",
   "metadata": {},
   "source": [
    "## Homework 3.2\n",
    " What are the number of rows in each 'QUADRANT' ?"
   ]
  },
  {
   "cell_type": "code",
   "execution_count": 110,
   "metadata": {},
   "outputs": [
    {
     "name": "stdout",
     "output_type": "stream",
     "text": [
      "['NW' 'NE' 'SE' 'SW' 'BN']\n",
      "(195, 27)\n",
      "(163, 27)\n",
      "(11, 27)\n",
      "(84, 27)\n",
      "(12, 27)\n"
     ]
    }
   ],
   "source": [
    "q_unique=data_frame.QUADRANT.unique()\n",
    "print q_unique\n",
    "NW_count=data_frame.loc[data_frame['QUADRANT']==\"NW\"].shape\n",
    "print NW_count\n",
    "NE_count=data_frame.loc[data_frame['QUADRANT']==\"NE\"].shape\n",
    "print NE_count\n",
    "SW_count=data_frame.loc[data_frame['QUADRANT']==\"SW\"].shape\n",
    "print SW_count\n",
    "SE_count=data_frame.loc[data_frame['QUADRANT']==\"SE\"].shape\n",
    "print SE_count\n",
    "BN_count=data_frame.loc[data_frame['QUADRANT']==\"BN\"].shape\n",
    "print BN_count"
   ]
  },
  {
   "cell_type": "markdown",
   "metadata": {},
   "source": [
    "## Homework 3.3 - Array math demonstration \n",
    "For two arrarys  \n",
    "\n",
    "a= [1,2,3,4]  type=float\n",
    "\n",
    "b= [5,6,7,8]  type=float\n",
    "\n",
    "Peform the following array operations using numpy   \n",
    "( show both operational use of numpy and functional (example addition operation => + vs addition function => numbpy.add() )\n",
    "\n",
    "### 3.3.1 addition a+b "
   ]
  },
  {
   "cell_type": "code",
   "execution_count": 34,
   "metadata": {},
   "outputs": [
    {
     "name": "stdout",
     "output_type": "stream",
     "text": [
      "[  6.   8.  10.  12.]\n"
     ]
    },
    {
     "data": {
      "text/plain": [
       "array([  6.,   8.,  10.,  12.])"
      ]
     },
     "execution_count": 34,
     "metadata": {},
     "output_type": "execute_result"
    }
   ],
   "source": [
    "a=np.array([1,2,3,4],dtype=np.float)\n",
    "b=np.array([5,6,7,8],dtype=np.float)\n",
    "s=np.add(a, b)\n",
    "print s\n",
    "a+b"
   ]
  },
  {
   "cell_type": "markdown",
   "metadata": {},
   "source": [
    "### 3.3.2 subtraction a-b"
   ]
  },
  {
   "cell_type": "code",
   "execution_count": 35,
   "metadata": {},
   "outputs": [
    {
     "name": "stdout",
     "output_type": "stream",
     "text": [
      "[-4. -4. -4. -4.]\n"
     ]
    },
    {
     "data": {
      "text/plain": [
       "array([-4., -4., -4., -4.])"
      ]
     },
     "execution_count": 35,
     "metadata": {},
     "output_type": "execute_result"
    }
   ],
   "source": [
    "su=np.subtract(a,b)\n",
    "print su\n",
    "a-b"
   ]
  },
  {
   "cell_type": "markdown",
   "metadata": {},
   "source": [
    "### 3.3.3 multiplication a*b"
   ]
  },
  {
   "cell_type": "code",
   "execution_count": 36,
   "metadata": {},
   "outputs": [
    {
     "name": "stdout",
     "output_type": "stream",
     "text": [
      "[  5.  12.  21.  32.]\n"
     ]
    },
    {
     "data": {
      "text/plain": [
       "array([  5.,  12.,  21.,  32.])"
      ]
     },
     "execution_count": 36,
     "metadata": {},
     "output_type": "execute_result"
    }
   ],
   "source": [
    "m=np.multiply(a,b)\n",
    "print m\n",
    "a*b"
   ]
  },
  {
   "cell_type": "markdown",
   "metadata": {},
   "source": [
    "### 3.3.4 divsion a/b"
   ]
  },
  {
   "cell_type": "code",
   "execution_count": 37,
   "metadata": {},
   "outputs": [
    {
     "name": "stdout",
     "output_type": "stream",
     "text": [
      "[ 0.2         0.33333333  0.42857143  0.5       ]\n"
     ]
    },
    {
     "data": {
      "text/plain": [
       "array([ 0.2       ,  0.33333333,  0.42857143,  0.5       ])"
      ]
     },
     "execution_count": 37,
     "metadata": {},
     "output_type": "execute_result"
    }
   ],
   "source": [
    "d=np.divide(a,b)\n",
    "print d\n",
    "a/b"
   ]
  },
  {
   "cell_type": "markdown",
   "metadata": {},
   "source": [
    "### 3.3.5 modulo  a%b"
   ]
  },
  {
   "cell_type": "code",
   "execution_count": 38,
   "metadata": {},
   "outputs": [
    {
     "name": "stdout",
     "output_type": "stream",
     "text": [
      "[ 1.  2.  3.  4.]\n"
     ]
    },
    {
     "data": {
      "text/plain": [
       "array([ 1.,  2.,  3.,  4.])"
      ]
     },
     "execution_count": 38,
     "metadata": {},
     "output_type": "execute_result"
    }
   ],
   "source": [
    "mo=np.mod(a,b)\n",
    "print mo\n",
    "a%b"
   ]
  },
  {
   "cell_type": "markdown",
   "metadata": {},
   "source": [
    "### 3.3.6 power  a^b"
   ]
  },
  {
   "cell_type": "code",
   "execution_count": 8,
   "metadata": {},
   "outputs": [
    {
     "ename": "NameError",
     "evalue": "name 'np' is not defined",
     "output_type": "error",
     "traceback": [
      "\u001b[1;31m\u001b[0m",
      "\u001b[1;31mNameError\u001b[0mTraceback (most recent call last)",
      "\u001b[1;32m<ipython-input-8-c50845fc69fb>\u001b[0m in \u001b[0;36m<module>\u001b[1;34m()\u001b[0m\n\u001b[1;32m----> 1\u001b[1;33m \u001b[0mpow\u001b[0m\u001b[1;33m=\u001b[0m\u001b[0mnp\u001b[0m\u001b[1;33m.\u001b[0m\u001b[0mfloat_power\u001b[0m\u001b[1;33m(\u001b[0m\u001b[0ma\u001b[0m\u001b[1;33m,\u001b[0m\u001b[0mb\u001b[0m\u001b[1;33m)\u001b[0m\u001b[1;33m\u001b[0m\u001b[0m\n\u001b[0m\u001b[0;32m      2\u001b[0m \u001b[1;32mprint\u001b[0m \u001b[0mpow\u001b[0m\u001b[1;33m\u001b[0m\u001b[0m\n\u001b[0;32m      3\u001b[0m \u001b[0ma\u001b[0m\u001b[1;33m**\u001b[0m\u001b[0mb\u001b[0m\u001b[1;33m\u001b[0m\u001b[0m\n",
      "\u001b[1;31mNameError\u001b[0m: name 'np' is not defined"
     ]
    }
   ],
   "source": [
    "pow=np.float_power(a,b)\n",
    "print pow\n",
    "a**b"
   ]
  },
  {
   "cell_type": "markdown",
   "metadata": {},
   "source": [
    "## Homework 3.4\n",
    "Find your own data and load it into a dataframe"
   ]
  },
  {
   "cell_type": "code",
   "execution_count": 9,
   "metadata": {},
   "outputs": [
    {
     "data": {
      "text/html": [
       "<div>\n",
       "<style>\n",
       "    .dataframe thead tr:only-child th {\n",
       "        text-align: right;\n",
       "    }\n",
       "\n",
       "    .dataframe thead th {\n",
       "        text-align: left;\n",
       "    }\n",
       "\n",
       "    .dataframe tbody tr th {\n",
       "        vertical-align: top;\n",
       "    }\n",
       "</style>\n",
       "<table border=\"1\" class=\"dataframe\">\n",
       "  <thead>\n",
       "    <tr style=\"text-align: right;\">\n",
       "      <th></th>\n",
       "      <th>X</th>\n",
       "      <th>Y</th>\n",
       "      <th>CCN</th>\n",
       "      <th>REPORT_DAT</th>\n",
       "      <th>SHIFT</th>\n",
       "      <th>METHOD</th>\n",
       "      <th>OFFENSE</th>\n",
       "      <th>BLOCK</th>\n",
       "      <th>XBLOCK</th>\n",
       "      <th>YBLOCK</th>\n",
       "      <th>...</th>\n",
       "      <th>CENSUS_TRACT</th>\n",
       "      <th>VOTING_PRECINCT</th>\n",
       "      <th>XCOORD</th>\n",
       "      <th>YCOORD</th>\n",
       "      <th>LATITUDE</th>\n",
       "      <th>LONGITUDE</th>\n",
       "      <th>BID</th>\n",
       "      <th>START_DATE</th>\n",
       "      <th>END_DATE</th>\n",
       "      <th>OBJECTID</th>\n",
       "    </tr>\n",
       "  </thead>\n",
       "  <tbody>\n",
       "    <tr>\n",
       "      <th>0</th>\n",
       "      <td>-76.979019</td>\n",
       "      <td>38.866897</td>\n",
       "      <td>6155556</td>\n",
       "      <td>2015-12-04T00:00:00.000Z</td>\n",
       "      <td>MIDNIGHT</td>\n",
       "      <td>GUN</td>\n",
       "      <td>HOMICIDE</td>\n",
       "      <td>1900 - 1925 BLOCK OF 18TH STREET SE</td>\n",
       "      <td>401821.0</td>\n",
       "      <td>133230.0</td>\n",
       "      <td>...</td>\n",
       "      <td>7605.0</td>\n",
       "      <td>Precinct 112</td>\n",
       "      <td>401795.67</td>\n",
       "      <td>133225.61</td>\n",
       "      <td>38.866890</td>\n",
       "      <td>-76.979017</td>\n",
       "      <td>NaN</td>\n",
       "      <td>2006-11-13T19:35:00.000Z</td>\n",
       "      <td>2006-11-13T19:38:00.000Z</td>\n",
       "      <td>71503077</td>\n",
       "    </tr>\n",
       "    <tr>\n",
       "      <th>1</th>\n",
       "      <td>-77.022947</td>\n",
       "      <td>38.910389</td>\n",
       "      <td>9051410</td>\n",
       "      <td>2015-09-14T00:00:00.000Z</td>\n",
       "      <td>MIDNIGHT</td>\n",
       "      <td>OTHERS</td>\n",
       "      <td>HOMICIDE</td>\n",
       "      <td>1500 - 1599 BLOCK OF 8TH STREET NW</td>\n",
       "      <td>398010.0</td>\n",
       "      <td>138058.0</td>\n",
       "      <td>...</td>\n",
       "      <td>4901.0</td>\n",
       "      <td>Precinct 18</td>\n",
       "      <td>397984.28</td>\n",
       "      <td>137924.44</td>\n",
       "      <td>38.910382</td>\n",
       "      <td>-77.022944</td>\n",
       "      <td>NaN</td>\n",
       "      <td>2009-04-18T01:05:00.000Z</td>\n",
       "      <td>2009-04-18T05:00:00.000Z</td>\n",
       "      <td>71529903</td>\n",
       "    </tr>\n",
       "    <tr>\n",
       "      <th>2</th>\n",
       "      <td>-76.980393</td>\n",
       "      <td>38.899616</td>\n",
       "      <td>11105327</td>\n",
       "      <td>2015-08-14T00:00:00.000Z</td>\n",
       "      <td>MIDNIGHT</td>\n",
       "      <td>KNIFE</td>\n",
       "      <td>SEX ABUSE</td>\n",
       "      <td>1516 - 1699 BLOCK OF BENNING ROAD NE</td>\n",
       "      <td>401701.0</td>\n",
       "      <td>136862.0</td>\n",
       "      <td>...</td>\n",
       "      <td>7901.0</td>\n",
       "      <td>Precinct 81</td>\n",
       "      <td>401716.19</td>\n",
       "      <td>136822.69</td>\n",
       "      <td>38.899608</td>\n",
       "      <td>-76.980391</td>\n",
       "      <td>NaN</td>\n",
       "      <td>2011-07-21T20:00:00.000Z</td>\n",
       "      <td>2011-07-21T23:00:00.000Z</td>\n",
       "      <td>71577169</td>\n",
       "    </tr>\n",
       "    <tr>\n",
       "      <th>3</th>\n",
       "      <td>-76.933413</td>\n",
       "      <td>38.890401</td>\n",
       "      <td>11535619</td>\n",
       "      <td>2015-08-30T02:57:29.000Z</td>\n",
       "      <td>MIDNIGHT</td>\n",
       "      <td>GUN</td>\n",
       "      <td>ROBBERY</td>\n",
       "      <td>4800 - 4899 BLOCK OF CENTRAL AVENUE NE</td>\n",
       "      <td>405777.0</td>\n",
       "      <td>135841.0</td>\n",
       "      <td>...</td>\n",
       "      <td>7804.0</td>\n",
       "      <td>Precinct 98</td>\n",
       "      <td>405802.40</td>\n",
       "      <td>135825.39</td>\n",
       "      <td>38.890393</td>\n",
       "      <td>-76.933411</td>\n",
       "      <td>NaN</td>\n",
       "      <td>2015-08-30T02:14:49.000Z</td>\n",
       "      <td>2015-08-30T02:20:15.000Z</td>\n",
       "      <td>71588612</td>\n",
       "    </tr>\n",
       "    <tr>\n",
       "      <th>4</th>\n",
       "      <td>-77.072880</td>\n",
       "      <td>38.930449</td>\n",
       "      <td>14158527</td>\n",
       "      <td>2015-01-25T00:00:00.000Z</td>\n",
       "      <td>MIDNIGHT</td>\n",
       "      <td>OTHERS</td>\n",
       "      <td>SEX ABUSE</td>\n",
       "      <td>3000 - 3199 BLOCK OF WISCONSIN AVENUE NW</td>\n",
       "      <td>393681.0</td>\n",
       "      <td>140287.0</td>\n",
       "      <td>...</td>\n",
       "      <td>400.0</td>\n",
       "      <td>Precinct 12</td>\n",
       "      <td>393647.71</td>\n",
       "      <td>140311.55</td>\n",
       "      <td>38.930441</td>\n",
       "      <td>-77.072878</td>\n",
       "      <td>NaN</td>\n",
       "      <td>2014-03-21T22:00:00.000Z</td>\n",
       "      <td>2014-03-21T22:05:00.000Z</td>\n",
       "      <td>71652614</td>\n",
       "    </tr>\n",
       "  </tbody>\n",
       "</table>\n",
       "<p>5 rows × 26 columns</p>\n",
       "</div>"
      ],
      "text/plain": [
       "           X          Y       CCN                REPORT_DAT     SHIFT  METHOD  \\\n",
       "0 -76.979019  38.866897   6155556  2015-12-04T00:00:00.000Z  MIDNIGHT     GUN   \n",
       "1 -77.022947  38.910389   9051410  2015-09-14T00:00:00.000Z  MIDNIGHT  OTHERS   \n",
       "2 -76.980393  38.899616  11105327  2015-08-14T00:00:00.000Z  MIDNIGHT   KNIFE   \n",
       "3 -76.933413  38.890401  11535619  2015-08-30T02:57:29.000Z  MIDNIGHT     GUN   \n",
       "4 -77.072880  38.930449  14158527  2015-01-25T00:00:00.000Z  MIDNIGHT  OTHERS   \n",
       "\n",
       "     OFFENSE                                     BLOCK    XBLOCK    YBLOCK  \\\n",
       "0   HOMICIDE       1900 - 1925 BLOCK OF 18TH STREET SE  401821.0  133230.0   \n",
       "1   HOMICIDE        1500 - 1599 BLOCK OF 8TH STREET NW  398010.0  138058.0   \n",
       "2  SEX ABUSE      1516 - 1699 BLOCK OF BENNING ROAD NE  401701.0  136862.0   \n",
       "3    ROBBERY    4800 - 4899 BLOCK OF CENTRAL AVENUE NE  405777.0  135841.0   \n",
       "4  SEX ABUSE  3000 - 3199 BLOCK OF WISCONSIN AVENUE NW  393681.0  140287.0   \n",
       "\n",
       "     ...     CENSUS_TRACT VOTING_PRECINCT     XCOORD     YCOORD   LATITUDE  \\\n",
       "0    ...           7605.0    Precinct 112  401795.67  133225.61  38.866890   \n",
       "1    ...           4901.0     Precinct 18  397984.28  137924.44  38.910382   \n",
       "2    ...           7901.0     Precinct 81  401716.19  136822.69  38.899608   \n",
       "3    ...           7804.0     Precinct 98  405802.40  135825.39  38.890393   \n",
       "4    ...            400.0     Precinct 12  393647.71  140311.55  38.930441   \n",
       "\n",
       "   LONGITUDE  BID                START_DATE                  END_DATE  \\\n",
       "0 -76.979017  NaN  2006-11-13T19:35:00.000Z  2006-11-13T19:38:00.000Z   \n",
       "1 -77.022944  NaN  2009-04-18T01:05:00.000Z  2009-04-18T05:00:00.000Z   \n",
       "2 -76.980391  NaN  2011-07-21T20:00:00.000Z  2011-07-21T23:00:00.000Z   \n",
       "3 -76.933411  NaN  2015-08-30T02:14:49.000Z  2015-08-30T02:20:15.000Z   \n",
       "4 -77.072878  NaN  2014-03-21T22:00:00.000Z  2014-03-21T22:05:00.000Z   \n",
       "\n",
       "   OBJECTID  \n",
       "0  71503077  \n",
       "1  71529903  \n",
       "2  71577169  \n",
       "3  71588612  \n",
       "4  71652614  \n",
       "\n",
       "[5 rows x 26 columns]"
      ]
     },
     "execution_count": 9,
     "metadata": {},
     "output_type": "execute_result"
    }
   ],
   "source": [
    "import pandas as pd\n",
    "df=pd.read_csv('C:\\Users\\AsusGo\\Desktop\\crime_2015.csv')\n",
    "df.head(5)\n",
    "\n",
    "#import numpy as np\n",
    "#csv = np.genfromtxt('C:\\Users\\AsusGo\\Desktop\\crime_2015.csv', delimiter= \",\")\n"
   ]
  },
  {
   "cell_type": "markdown",
   "metadata": {},
   "source": [
    "## Homework 3.5\n",
    "Provide an interesting analysis of the data columns ( frequency or averages )"
   ]
  },
  {
   "cell_type": "markdown",
   "metadata": {},
   "source": [
    "Crimes done at different times"
   ]
  },
  {
   "cell_type": "code",
   "execution_count": 10,
   "metadata": {},
   "outputs": [
    {
     "name": "stdout",
     "output_type": "stream",
     "text": [
      "['MIDNIGHT' 'DAY' 'EVENING']\n"
     ]
    }
   ],
   "source": [
    "s_unique=df.SHIFT.unique()\n",
    "print s_unique"
   ]
  },
  {
   "cell_type": "code",
   "execution_count": 11,
   "metadata": {},
   "outputs": [
    {
     "name": "stdout",
     "output_type": "stream",
     "text": [
      "(7023, 26)\n",
      "(16253, 26)\n",
      "(14042, 26)\n"
     ]
    }
   ],
   "source": [
    "MIDNIGHT_count=df.loc[df['SHIFT']==\"MIDNIGHT\"].shape\n",
    "print MIDNIGHT_count\n",
    "EVENING_count=df.loc[df['SHIFT']==\"EVENING\"].shape\n",
    "print EVENING_count\n",
    "DAY_count=df.loc[df['SHIFT']==\"DAY\"].shape\n",
    "print DAY_count"
   ]
  },
  {
   "cell_type": "markdown",
   "metadata": {},
   "source": [
    "According to the above results,it is determined that most of the crime took place in the evening shifts(16253)."
   ]
  },
  {
   "cell_type": "code",
   "execution_count": 12,
   "metadata": {},
   "outputs": [
    {
     "name": "stdout",
     "output_type": "stream",
     "text": [
      "['HOMICIDE' 'SEX ABUSE' 'ROBBERY' 'THEFT F/AUTO' 'BURGLARY' 'THEFT/OTHER'\n",
      " 'MOTOR VEHICLE THEFT' 'ASSAULT W/DANGEROUS WEAPON' 'ARSON']\n"
     ]
    }
   ],
   "source": [
    "o_unique=df.OFFENSE.unique()\n",
    "print o_unique"
   ]
  },
  {
   "cell_type": "code",
   "execution_count": 59,
   "metadata": {
    "scrolled": true
   },
   "outputs": [
    {
     "data": {
      "text/html": [
       "<div>\n",
       "<style>\n",
       "    .dataframe thead tr:only-child th {\n",
       "        text-align: right;\n",
       "    }\n",
       "\n",
       "    .dataframe thead th {\n",
       "        text-align: left;\n",
       "    }\n",
       "\n",
       "    .dataframe tbody tr th {\n",
       "        vertical-align: top;\n",
       "    }\n",
       "</style>\n",
       "<table border=\"1\" class=\"dataframe\">\n",
       "  <thead>\n",
       "    <tr style=\"text-align: right;\">\n",
       "      <th></th>\n",
       "      <th>X</th>\n",
       "      <th>Y</th>\n",
       "      <th>CCN</th>\n",
       "      <th>XBLOCK</th>\n",
       "      <th>YBLOCK</th>\n",
       "      <th>WARD</th>\n",
       "      <th>DISTRICT</th>\n",
       "      <th>PSA</th>\n",
       "      <th>CENSUS_TRACT</th>\n",
       "      <th>XCOORD</th>\n",
       "      <th>YCOORD</th>\n",
       "      <th>LATITUDE</th>\n",
       "      <th>LONGITUDE</th>\n",
       "      <th>OBJECTID</th>\n",
       "    </tr>\n",
       "  </thead>\n",
       "  <tbody>\n",
       "    <tr>\n",
       "      <th>count</th>\n",
       "      <td>37318.000000</td>\n",
       "      <td>37318.000000</td>\n",
       "      <td>3.731800e+04</td>\n",
       "      <td>37318.000000</td>\n",
       "      <td>37318.000000</td>\n",
       "      <td>37318.000000</td>\n",
       "      <td>37267.000000</td>\n",
       "      <td>37265.000000</td>\n",
       "      <td>37203.000000</td>\n",
       "      <td>37181.000000</td>\n",
       "      <td>37181.000000</td>\n",
       "      <td>37318.000000</td>\n",
       "      <td>37318.000000</td>\n",
       "      <td>3.731800e+04</td>\n",
       "    </tr>\n",
       "    <tr>\n",
       "      <th>mean</th>\n",
       "      <td>-77.008079</td>\n",
       "      <td>38.907133</td>\n",
       "      <td>1.512027e+07</td>\n",
       "      <td>399300.066247</td>\n",
       "      <td>137696.929799</td>\n",
       "      <td>4.421486</td>\n",
       "      <td>3.695280</td>\n",
       "      <td>374.080907</td>\n",
       "      <td>6210.887321</td>\n",
       "      <td>399303.374851</td>\n",
       "      <td>137695.134174</td>\n",
       "      <td>38.907125</td>\n",
       "      <td>-77.008077</td>\n",
       "      <td>7.170944e+07</td>\n",
       "    </tr>\n",
       "    <tr>\n",
       "      <th>std</th>\n",
       "      <td>0.035877</td>\n",
       "      <td>0.030863</td>\n",
       "      <td>1.077086e+05</td>\n",
       "      <td>3111.622564</td>\n",
       "      <td>3426.116858</td>\n",
       "      <td>2.339705</td>\n",
       "      <td>1.947808</td>\n",
       "      <td>194.542204</td>\n",
       "      <td>3145.199626</td>\n",
       "      <td>3110.585803</td>\n",
       "      <td>3425.240318</td>\n",
       "      <td>0.030863</td>\n",
       "      <td>0.035877</td>\n",
       "      <td>5.206550e+04</td>\n",
       "    </tr>\n",
       "    <tr>\n",
       "      <th>min</th>\n",
       "      <td>-77.113645</td>\n",
       "      <td>38.813478</td>\n",
       "      <td>6.155556e+06</td>\n",
       "      <td>390147.000000</td>\n",
       "      <td>127300.000000</td>\n",
       "      <td>1.000000</td>\n",
       "      <td>1.000000</td>\n",
       "      <td>101.000000</td>\n",
       "      <td>100.000000</td>\n",
       "      <td>390132.600000</td>\n",
       "      <td>127319.990000</td>\n",
       "      <td>38.813471</td>\n",
       "      <td>-77.113642</td>\n",
       "      <td>7.150308e+07</td>\n",
       "    </tr>\n",
       "    <tr>\n",
       "      <th>25%</th>\n",
       "      <td>-77.031963</td>\n",
       "      <td>38.892015</td>\n",
       "      <td>1.505965e+07</td>\n",
       "      <td>397228.000000</td>\n",
       "      <td>136018.067500</td>\n",
       "      <td>2.000000</td>\n",
       "      <td>2.000000</td>\n",
       "      <td>206.000000</td>\n",
       "      <td>3400.000000</td>\n",
       "      <td>397217.800000</td>\n",
       "      <td>136037.320000</td>\n",
       "      <td>38.892007</td>\n",
       "      <td>-77.031960</td>\n",
       "      <td>7.166899e+07</td>\n",
       "    </tr>\n",
       "    <tr>\n",
       "      <th>50%</th>\n",
       "      <td>-77.012949</td>\n",
       "      <td>38.906466</td>\n",
       "      <td>1.511258e+07</td>\n",
       "      <td>398876.980000</td>\n",
       "      <td>137623.000000</td>\n",
       "      <td>5.000000</td>\n",
       "      <td>4.000000</td>\n",
       "      <td>401.000000</td>\n",
       "      <td>7000.000000</td>\n",
       "      <td>398871.560000</td>\n",
       "      <td>137642.700000</td>\n",
       "      <td>38.906458</td>\n",
       "      <td>-77.012947</td>\n",
       "      <td>7.167833e+07</td>\n",
       "    </tr>\n",
       "    <tr>\n",
       "      <th>75%</th>\n",
       "      <td>-76.985515</td>\n",
       "      <td>38.926430</td>\n",
       "      <td>1.516609e+07</td>\n",
       "      <td>401257.000000</td>\n",
       "      <td>139839.000000</td>\n",
       "      <td>6.000000</td>\n",
       "      <td>5.000000</td>\n",
       "      <td>506.000000</td>\n",
       "      <td>8904.000000</td>\n",
       "      <td>401256.720000</td>\n",
       "      <td>139856.110000</td>\n",
       "      <td>38.926422</td>\n",
       "      <td>-76.985512</td>\n",
       "      <td>7.177698e+07</td>\n",
       "    </tr>\n",
       "    <tr>\n",
       "      <th>max</th>\n",
       "      <td>-76.910023</td>\n",
       "      <td>38.993568</td>\n",
       "      <td>1.617462e+07</td>\n",
       "      <td>407806.000000</td>\n",
       "      <td>147292.000000</td>\n",
       "      <td>8.000000</td>\n",
       "      <td>7.000000</td>\n",
       "      <td>708.000000</td>\n",
       "      <td>11100.000000</td>\n",
       "      <td>407828.700000</td>\n",
       "      <td>147424.260000</td>\n",
       "      <td>38.993560</td>\n",
       "      <td>-76.910021</td>\n",
       "      <td>7.181773e+07</td>\n",
       "    </tr>\n",
       "  </tbody>\n",
       "</table>\n",
       "</div>"
      ],
      "text/plain": [
       "                  X             Y           CCN         XBLOCK         YBLOCK  \\\n",
       "count  37318.000000  37318.000000  3.731800e+04   37318.000000   37318.000000   \n",
       "mean     -77.008079     38.907133  1.512027e+07  399300.066247  137696.929799   \n",
       "std        0.035877      0.030863  1.077086e+05    3111.622564    3426.116858   \n",
       "min      -77.113645     38.813478  6.155556e+06  390147.000000  127300.000000   \n",
       "25%      -77.031963     38.892015  1.505965e+07  397228.000000  136018.067500   \n",
       "50%      -77.012949     38.906466  1.511258e+07  398876.980000  137623.000000   \n",
       "75%      -76.985515     38.926430  1.516609e+07  401257.000000  139839.000000   \n",
       "max      -76.910023     38.993568  1.617462e+07  407806.000000  147292.000000   \n",
       "\n",
       "               WARD      DISTRICT           PSA  CENSUS_TRACT         XCOORD  \\\n",
       "count  37318.000000  37267.000000  37265.000000  37203.000000   37181.000000   \n",
       "mean       4.421486      3.695280    374.080907   6210.887321  399303.374851   \n",
       "std        2.339705      1.947808    194.542204   3145.199626    3110.585803   \n",
       "min        1.000000      1.000000    101.000000    100.000000  390132.600000   \n",
       "25%        2.000000      2.000000    206.000000   3400.000000  397217.800000   \n",
       "50%        5.000000      4.000000    401.000000   7000.000000  398871.560000   \n",
       "75%        6.000000      5.000000    506.000000   8904.000000  401256.720000   \n",
       "max        8.000000      7.000000    708.000000  11100.000000  407828.700000   \n",
       "\n",
       "              YCOORD      LATITUDE     LONGITUDE      OBJECTID  \n",
       "count   37181.000000  37318.000000  37318.000000  3.731800e+04  \n",
       "mean   137695.134174     38.907125    -77.008077  7.170944e+07  \n",
       "std      3425.240318      0.030863      0.035877  5.206550e+04  \n",
       "min    127319.990000     38.813471    -77.113642  7.150308e+07  \n",
       "25%    136037.320000     38.892007    -77.031960  7.166899e+07  \n",
       "50%    137642.700000     38.906458    -77.012947  7.167833e+07  \n",
       "75%    139856.110000     38.926422    -76.985512  7.177698e+07  \n",
       "max    147424.260000     38.993560    -76.910021  7.181773e+07  "
      ]
     },
     "execution_count": 59,
     "metadata": {},
     "output_type": "execute_result"
    }
   ],
   "source": [
    "df.describe()\n"
   ]
  },
  {
   "cell_type": "code",
   "execution_count": 60,
   "metadata": {},
   "outputs": [
    {
     "data": {
      "text/plain": [
       "<pandas.core.groupby.SeriesGroupBy object at 0x000000000E2C75C0>"
      ]
     },
     "execution_count": 60,
     "metadata": {},
     "output_type": "execute_result"
    }
   ],
   "source": [
    "df.groupby(\"METHOD\")[\"OFFENSE\"]"
   ]
  },
  {
   "cell_type": "code",
   "execution_count": 37,
   "metadata": {},
   "outputs": [
    {
     "name": "stdout",
     "output_type": "stream",
     "text": [
      "                                 CCN  METHOD     SHIFT\n",
      "OFFENSE                                               \n",
      "ARSON                       15208488  OTHERS  MIDNIGHT\n",
      "ASSAULT W/DANGEROUS WEAPON  15703603  OTHERS  MIDNIGHT\n",
      "BURGLARY                    15831561  OTHERS  MIDNIGHT\n",
      "HOMICIDE                    15207060  OTHERS  MIDNIGHT\n",
      "MOTOR VEHICLE THEFT         15208268  OTHERS  MIDNIGHT\n",
      "ROBBERY                     15888801  OTHERS  MIDNIGHT\n",
      "SEX ABUSE                   15207028  OTHERS  MIDNIGHT\n",
      "THEFT F/AUTO                15914474  OTHERS  MIDNIGHT\n",
      "THEFT/OTHER                 16174617  OTHERS  MIDNIGHT\n",
      "                            OBJECTID  METHOD\n",
      "OFFENSE                                     \n",
      "ARSON                       71663758  OTHERS\n",
      "ASSAULT W/DANGEROUS WEAPON  71657702     GUN\n",
      "BURGLARY                    71657701     GUN\n",
      "HOMICIDE                    71503077     GUN\n",
      "MOTOR VEHICLE THEFT         71657320     GUN\n",
      "ROBBERY                     71588612     GUN\n",
      "SEX ABUSE                   71577169     GUN\n",
      "THEFT F/AUTO                71654277     GUN\n",
      "THEFT/OTHER                 71657321     GUN\n"
     ]
    }
   ],
   "source": [
    "print df.groupby('OFFENSE')['CCN','METHOD','SHIFT'].max()\n",
    "print df.groupby('OFFENSE')['OBJECTID','METHOD'].min()"
   ]
  },
  {
   "cell_type": "code",
   "execution_count": 27,
   "metadata": {},
   "outputs": [
    {
     "name": "stdout",
     "output_type": "stream",
     "text": [
      "THEFT/OTHER\n",
      "ARSON\n"
     ]
    }
   ],
   "source": [
    "print df['OFFENSE'].max()\n",
    "print df['OFFENSE'].min()"
   ]
  },
  {
   "cell_type": "code",
   "execution_count": 25,
   "metadata": {},
   "outputs": [
    {
     "name": "stdout",
     "output_type": "stream",
     "text": [
      "MIDNIGHT\n",
      "DAY\n"
     ]
    }
   ],
   "source": [
    "print df['SHIFT'].max()\n",
    "print df['SHIFT'].min()"
   ]
  },
  {
   "cell_type": "code",
   "execution_count": 47,
   "metadata": {},
   "outputs": [
    {
     "name": "stdout",
     "output_type": "stream",
     "text": [
      "37318\n"
     ]
    }
   ],
   "source": [
    "print df['OBJECTID'].count()"
   ]
  },
  {
   "cell_type": "code",
   "execution_count": 50,
   "metadata": {},
   "outputs": [
    {
     "data": {
      "text/plain": [
       "37305"
      ]
     },
     "execution_count": 50,
     "metadata": {},
     "output_type": "execute_result"
    }
   ],
   "source": [
    "df['VOTING_PRECINCT'].count()"
   ]
  },
  {
   "cell_type": "code",
   "execution_count": 53,
   "metadata": {},
   "outputs": [
    {
     "data": {
      "text/html": [
       "<div>\n",
       "<style>\n",
       "    .dataframe thead tr:only-child th {\n",
       "        text-align: right;\n",
       "    }\n",
       "\n",
       "    .dataframe thead th {\n",
       "        text-align: left;\n",
       "    }\n",
       "\n",
       "    .dataframe tbody tr th {\n",
       "        vertical-align: top;\n",
       "    }\n",
       "</style>\n",
       "<table border=\"1\" class=\"dataframe\">\n",
       "  <thead>\n",
       "    <tr style=\"text-align: right;\">\n",
       "      <th></th>\n",
       "      <th>LATITUDE</th>\n",
       "      <th>LONGITUDE</th>\n",
       "    </tr>\n",
       "    <tr>\n",
       "      <th>METHOD</th>\n",
       "      <th></th>\n",
       "      <th></th>\n",
       "    </tr>\n",
       "  </thead>\n",
       "  <tbody>\n",
       "    <tr>\n",
       "      <th>GUN</th>\n",
       "      <td>38.984056</td>\n",
       "      <td>-76.911744</td>\n",
       "    </tr>\n",
       "    <tr>\n",
       "      <th>KNIFE</th>\n",
       "      <td>38.980411</td>\n",
       "      <td>-76.910146</td>\n",
       "    </tr>\n",
       "    <tr>\n",
       "      <th>OTHERS</th>\n",
       "      <td>38.993560</td>\n",
       "      <td>-76.910021</td>\n",
       "    </tr>\n",
       "  </tbody>\n",
       "</table>\n",
       "</div>"
      ],
      "text/plain": [
       "         LATITUDE  LONGITUDE\n",
       "METHOD                      \n",
       "GUN     38.984056 -76.911744\n",
       "KNIFE   38.980411 -76.910146\n",
       "OTHERS  38.993560 -76.910021"
      ]
     },
     "execution_count": 53,
     "metadata": {},
     "output_type": "execute_result"
    }
   ],
   "source": [
    "df.groupby('METHOD')['LATITUDE','LONGITUDE'].max()"
   ]
  },
  {
   "cell_type": "code",
   "execution_count": 54,
   "metadata": {},
   "outputs": [
    {
     "data": {
      "text/html": [
       "<div>\n",
       "<style>\n",
       "    .dataframe thead tr:only-child th {\n",
       "        text-align: right;\n",
       "    }\n",
       "\n",
       "    .dataframe thead th {\n",
       "        text-align: left;\n",
       "    }\n",
       "\n",
       "    .dataframe tbody tr th {\n",
       "        vertical-align: top;\n",
       "    }\n",
       "</style>\n",
       "<table border=\"1\" class=\"dataframe\">\n",
       "  <thead>\n",
       "    <tr style=\"text-align: right;\">\n",
       "      <th></th>\n",
       "      <th>LATITUDE</th>\n",
       "      <th>LONGITUDE</th>\n",
       "    </tr>\n",
       "    <tr>\n",
       "      <th>OFFENSE</th>\n",
       "      <th></th>\n",
       "      <th></th>\n",
       "    </tr>\n",
       "  </thead>\n",
       "  <tbody>\n",
       "    <tr>\n",
       "      <th>ARSON</th>\n",
       "      <td>38.962474</td>\n",
       "      <td>-76.921305</td>\n",
       "    </tr>\n",
       "    <tr>\n",
       "      <th>ASSAULT W/DANGEROUS WEAPON</th>\n",
       "      <td>38.988508</td>\n",
       "      <td>-76.910146</td>\n",
       "    </tr>\n",
       "    <tr>\n",
       "      <th>BURGLARY</th>\n",
       "      <td>38.992170</td>\n",
       "      <td>-76.912290</td>\n",
       "    </tr>\n",
       "    <tr>\n",
       "      <th>HOMICIDE</th>\n",
       "      <td>38.973603</td>\n",
       "      <td>-76.912994</td>\n",
       "    </tr>\n",
       "    <tr>\n",
       "      <th>MOTOR VEHICLE THEFT</th>\n",
       "      <td>38.989381</td>\n",
       "      <td>-76.910021</td>\n",
       "    </tr>\n",
       "    <tr>\n",
       "      <th>ROBBERY</th>\n",
       "      <td>38.989706</td>\n",
       "      <td>-76.910146</td>\n",
       "    </tr>\n",
       "    <tr>\n",
       "      <th>SEX ABUSE</th>\n",
       "      <td>38.971907</td>\n",
       "      <td>-76.913666</td>\n",
       "    </tr>\n",
       "    <tr>\n",
       "      <th>THEFT F/AUTO</th>\n",
       "      <td>38.993560</td>\n",
       "      <td>-76.910931</td>\n",
       "    </tr>\n",
       "    <tr>\n",
       "      <th>THEFT/OTHER</th>\n",
       "      <td>38.988688</td>\n",
       "      <td>-76.910930</td>\n",
       "    </tr>\n",
       "  </tbody>\n",
       "</table>\n",
       "</div>"
      ],
      "text/plain": [
       "                             LATITUDE  LONGITUDE\n",
       "OFFENSE                                         \n",
       "ARSON                       38.962474 -76.921305\n",
       "ASSAULT W/DANGEROUS WEAPON  38.988508 -76.910146\n",
       "BURGLARY                    38.992170 -76.912290\n",
       "HOMICIDE                    38.973603 -76.912994\n",
       "MOTOR VEHICLE THEFT         38.989381 -76.910021\n",
       "ROBBERY                     38.989706 -76.910146\n",
       "SEX ABUSE                   38.971907 -76.913666\n",
       "THEFT F/AUTO                38.993560 -76.910931\n",
       "THEFT/OTHER                 38.988688 -76.910930"
      ]
     },
     "execution_count": 54,
     "metadata": {},
     "output_type": "execute_result"
    }
   ],
   "source": [
    "df.groupby('OFFENSE')['LATITUDE','LONGITUDE'].max()"
   ]
  },
  {
   "cell_type": "code",
   "execution_count": 58,
   "metadata": {},
   "outputs": [
    {
     "data": {
      "text/html": [
       "<div>\n",
       "<style>\n",
       "    .dataframe thead tr:only-child th {\n",
       "        text-align: right;\n",
       "    }\n",
       "\n",
       "    .dataframe thead th {\n",
       "        text-align: left;\n",
       "    }\n",
       "\n",
       "    .dataframe tbody tr th {\n",
       "        vertical-align: top;\n",
       "    }\n",
       "</style>\n",
       "<table border=\"1\" class=\"dataframe\">\n",
       "  <thead>\n",
       "    <tr style=\"text-align: right;\">\n",
       "      <th></th>\n",
       "      <th>X</th>\n",
       "      <th>Y</th>\n",
       "      <th>LATITUDE</th>\n",
       "      <th>LONGITUDE</th>\n",
       "      <th>XCOORD</th>\n",
       "      <th>YCOORD</th>\n",
       "    </tr>\n",
       "    <tr>\n",
       "      <th>OFFENSE</th>\n",
       "      <th></th>\n",
       "      <th></th>\n",
       "      <th></th>\n",
       "      <th></th>\n",
       "      <th></th>\n",
       "      <th></th>\n",
       "    </tr>\n",
       "  </thead>\n",
       "  <tbody>\n",
       "    <tr>\n",
       "      <th>ARSON</th>\n",
       "      <td>-76.921307</td>\n",
       "      <td>38.962482</td>\n",
       "      <td>38.962474</td>\n",
       "      <td>-76.921305</td>\n",
       "      <td>406824.00</td>\n",
       "      <td>143808.19</td>\n",
       "    </tr>\n",
       "    <tr>\n",
       "      <th>ASSAULT W/DANGEROUS WEAPON</th>\n",
       "      <td>-76.910148</td>\n",
       "      <td>38.988516</td>\n",
       "      <td>38.988508</td>\n",
       "      <td>-76.910146</td>\n",
       "      <td>407828.70</td>\n",
       "      <td>146678.22</td>\n",
       "    </tr>\n",
       "    <tr>\n",
       "      <th>BURGLARY</th>\n",
       "      <td>-76.912292</td>\n",
       "      <td>38.992178</td>\n",
       "      <td>38.992170</td>\n",
       "      <td>-76.912290</td>\n",
       "      <td>407584.27</td>\n",
       "      <td>147140.35</td>\n",
       "    </tr>\n",
       "    <tr>\n",
       "      <th>HOMICIDE</th>\n",
       "      <td>-76.912996</td>\n",
       "      <td>38.973610</td>\n",
       "      <td>38.973603</td>\n",
       "      <td>-76.912994</td>\n",
       "      <td>407528.83</td>\n",
       "      <td>145092.96</td>\n",
       "    </tr>\n",
       "    <tr>\n",
       "      <th>MOTOR VEHICLE THEFT</th>\n",
       "      <td>-76.910023</td>\n",
       "      <td>38.989389</td>\n",
       "      <td>38.989381</td>\n",
       "      <td>-76.910021</td>\n",
       "      <td>407810.36</td>\n",
       "      <td>146861.16</td>\n",
       "    </tr>\n",
       "    <tr>\n",
       "      <th>ROBBERY</th>\n",
       "      <td>-76.910148</td>\n",
       "      <td>38.989714</td>\n",
       "      <td>38.989706</td>\n",
       "      <td>-76.910146</td>\n",
       "      <td>407828.70</td>\n",
       "      <td>146838.57</td>\n",
       "    </tr>\n",
       "    <tr>\n",
       "      <th>SEX ABUSE</th>\n",
       "      <td>-76.913668</td>\n",
       "      <td>38.971915</td>\n",
       "      <td>38.971907</td>\n",
       "      <td>-76.913666</td>\n",
       "      <td>407489.85</td>\n",
       "      <td>144905.56</td>\n",
       "    </tr>\n",
       "    <tr>\n",
       "      <th>THEFT F/AUTO</th>\n",
       "      <td>-76.910933</td>\n",
       "      <td>38.993568</td>\n",
       "      <td>38.993560</td>\n",
       "      <td>-76.910931</td>\n",
       "      <td>407763.60</td>\n",
       "      <td>147424.26</td>\n",
       "    </tr>\n",
       "    <tr>\n",
       "      <th>THEFT/OTHER</th>\n",
       "      <td>-76.910932</td>\n",
       "      <td>38.988695</td>\n",
       "      <td>38.988688</td>\n",
       "      <td>-76.910930</td>\n",
       "      <td>407757.28</td>\n",
       "      <td>146749.51</td>\n",
       "    </tr>\n",
       "  </tbody>\n",
       "</table>\n",
       "</div>"
      ],
      "text/plain": [
       "                                    X          Y   LATITUDE  LONGITUDE  \\\n",
       "OFFENSE                                                                  \n",
       "ARSON                      -76.921307  38.962482  38.962474 -76.921305   \n",
       "ASSAULT W/DANGEROUS WEAPON -76.910148  38.988516  38.988508 -76.910146   \n",
       "BURGLARY                   -76.912292  38.992178  38.992170 -76.912290   \n",
       "HOMICIDE                   -76.912996  38.973610  38.973603 -76.912994   \n",
       "MOTOR VEHICLE THEFT        -76.910023  38.989389  38.989381 -76.910021   \n",
       "ROBBERY                    -76.910148  38.989714  38.989706 -76.910146   \n",
       "SEX ABUSE                  -76.913668  38.971915  38.971907 -76.913666   \n",
       "THEFT F/AUTO               -76.910933  38.993568  38.993560 -76.910931   \n",
       "THEFT/OTHER                -76.910932  38.988695  38.988688 -76.910930   \n",
       "\n",
       "                               XCOORD     YCOORD  \n",
       "OFFENSE                                           \n",
       "ARSON                       406824.00  143808.19  \n",
       "ASSAULT W/DANGEROUS WEAPON  407828.70  146678.22  \n",
       "BURGLARY                    407584.27  147140.35  \n",
       "HOMICIDE                    407528.83  145092.96  \n",
       "MOTOR VEHICLE THEFT         407810.36  146861.16  \n",
       "ROBBERY                     407828.70  146838.57  \n",
       "SEX ABUSE                   407489.85  144905.56  \n",
       "THEFT F/AUTO                407763.60  147424.26  \n",
       "THEFT/OTHER                 407757.28  146749.51  "
      ]
     },
     "execution_count": 58,
     "metadata": {},
     "output_type": "execute_result"
    }
   ],
   "source": [
    "df.groupby('OFFENSE')['X','Y','LATITUDE','LONGITUDE','XCOORD','YCOORD'].max()"
   ]
  }
 ],
 "metadata": {
  "kernelspec": {
   "display_name": "Python 2",
   "language": "python",
   "name": "python2"
  },
  "language_info": {
   "codemirror_mode": {
    "name": "ipython",
    "version": 2
   },
   "file_extension": ".py",
   "mimetype": "text/x-python",
   "name": "python",
   "nbconvert_exporter": "python",
   "pygments_lexer": "ipython2",
   "version": "2.7.13"
  }
 },
 "nbformat": 4,
 "nbformat_minor": 1
}
