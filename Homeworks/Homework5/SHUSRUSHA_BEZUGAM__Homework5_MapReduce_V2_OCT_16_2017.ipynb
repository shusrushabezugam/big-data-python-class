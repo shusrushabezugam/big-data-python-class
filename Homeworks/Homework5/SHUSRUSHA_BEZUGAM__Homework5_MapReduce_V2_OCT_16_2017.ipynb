{
 "cells": [
  {
   "cell_type": "code",
   "execution_count": null,
   "metadata": {
    "collapsed": true
   },
   "outputs": [],
   "source": [
    "%matplotlib inline\n",
    "import pandas as pd\n",
    "import numpy as np\n",
    "import matplotlib as mpl\n",
    "import matplotlib.pyplot as plt\n",
    "import mrjob \n",
    "from mrjob.job import MRJob"
   ]
  },
  {
   "cell_type": "markdown",
   "metadata": {},
   "source": [
    "### Homework 5\n",
    "\n",
    "Copy this notebook. Rename it as: YOURNAME-HW4-mapreduce-XX\n",
    "\n",
    "with your name replacing YOURNAME and the xx replaced with the date you submit or copy this HW.\n",
    "\n",
    "Upload your completed jupyter notebook to elearning site as your homework submission. Do not put this notebook on your github.\n",
    "\n",
    "Do all the homeworks problems below:\n",
    "As noted doing the homework gets a 3 out of 5. Extension of homework to to implement an TD-IDF algorithm  (see below)\n",
    "\n",
    "Use the data/bible+shakes.nonpunc.txt file as the source of you analysis in this homework"
   ]
  },
  {
   "cell_type": "markdown",
   "metadata": {},
   "source": [
    "##Homework 5.1\n",
    " A bigram is the combination of words.  Find the 10 most common bigrams from the text.  Order counts in the bigram combination for example \"in the\" is not the same bigram as \"the in\"\n",
    "\n"
   ]
  },
  {
   "cell_type": "markdown",
   "metadata": {},
   "source": [
    "Displaying bigrams along with the count"
   ]
  },
  {
   "cell_type": "code",
   "execution_count": null,
   "metadata": {},
   "outputs": [],
   "source": [
    "# %load MRBgram1.py\n",
    "import re\n",
    "import heapq\n",
    "from mrjob.job import MRJob\n",
    "WORD_RE = re.compile(r\"[\\w']+\")\n",
    "class MRBgram1(MRJob):\n",
    "    \n",
    "    def mapper(self, _, line):\n",
    "        w = line.split()\n",
    "        for i in range(len(w)-1):\n",
    "            yield  [w[i],w[i+1]], 1\n",
    "            #print (heapq.nlargest(10,bigram_list )) \n",
    "            \n",
    "    def combiner(self,w,counts):\n",
    "        yield w, sum(counts)\n",
    "    def reducer(self,w,counts):\n",
    "        yield w, sum(counts)\n",
    "            \n",
    "         \n",
    "    # ignore this part - its just standard bolierplate for mrjob!\n",
    "if __name__ == '__main__':\n",
    "    MRBgram1.run()"
   ]
  },
  {
   "cell_type": "code",
   "execution_count": 138,
   "metadata": {},
   "outputs": [
    {
     "name": "stderr",
     "output_type": "stream",
     "text": [
      "No configs found; falling back on auto-configuration\n",
      "No configs found; falling back on auto-configuration\n",
      "No configs found; falling back on auto-configuration\n",
      "No configs found; falling back on auto-configuration\n",
      "No configs found; falling back on auto-configuration\n",
      "No configs found; falling back on auto-configuration\n",
      "No configs found; falling back on auto-configuration\n",
      "No configs found; falling back on auto-configuration\n",
      "No configs found; falling back on auto-configuration\n",
      "No configs found; falling back on auto-configuration\n",
      "No configs found; falling back on auto-configuration\n",
      "INFO:mrjob.conf:No configs found; falling back on auto-configuration\n",
      "Creating temp directory c:\\users\\asusgo\\appdata\\local\\temp\\MRBgram1.AsusGo.20171022.230715.815000\n",
      "Creating temp directory c:\\users\\asusgo\\appdata\\local\\temp\\MRBgram1.AsusGo.20171022.230715.815000\n",
      "Creating temp directory c:\\users\\asusgo\\appdata\\local\\temp\\MRBgram1.AsusGo.20171022.230715.815000\n",
      "Creating temp directory c:\\users\\asusgo\\appdata\\local\\temp\\MRBgram1.AsusGo.20171022.230715.815000\n",
      "Creating temp directory c:\\users\\asusgo\\appdata\\local\\temp\\MRBgram1.AsusGo.20171022.230715.815000\n",
      "Creating temp directory c:\\users\\asusgo\\appdata\\local\\temp\\MRBgram1.AsusGo.20171022.230715.815000\n",
      "Creating temp directory c:\\users\\asusgo\\appdata\\local\\temp\\MRBgram1.AsusGo.20171022.230715.815000\n",
      "Creating temp directory c:\\users\\asusgo\\appdata\\local\\temp\\MRBgram1.AsusGo.20171022.230715.815000\n",
      "Creating temp directory c:\\users\\asusgo\\appdata\\local\\temp\\MRBgram1.AsusGo.20171022.230715.815000\n",
      "Creating temp directory c:\\users\\asusgo\\appdata\\local\\temp\\MRBgram1.AsusGo.20171022.230715.815000\n",
      "Creating temp directory c:\\users\\asusgo\\appdata\\local\\temp\\MRBgram1.AsusGo.20171022.230715.815000\n",
      "INFO:mrjob.runner:Creating temp directory c:\\users\\asusgo\\appdata\\local\\temp\\MRBgram1.AsusGo.20171022.230715.815000\n",
      "Running step 1 of 1...\n",
      "Running step 1 of 1...\n",
      "Running step 1 of 1...\n",
      "Running step 1 of 1...\n",
      "Running step 1 of 1...\n",
      "Running step 1 of 1...\n",
      "Running step 1 of 1...\n",
      "Running step 1 of 1...\n",
      "Running step 1 of 1...\n",
      "Running step 1 of 1...\n",
      "Running step 1 of 1...\n",
      "INFO:mrjob.sim:Running step 1 of 1...\n",
      "Streaming final output from c:\\users\\asusgo\\appdata\\local\\temp\\MRBgram1.AsusGo.20171022.230715.815000\\output...\n",
      "Streaming final output from c:\\users\\asusgo\\appdata\\local\\temp\\MRBgram1.AsusGo.20171022.230715.815000\\output...\n",
      "Streaming final output from c:\\users\\asusgo\\appdata\\local\\temp\\MRBgram1.AsusGo.20171022.230715.815000\\output...\n",
      "Streaming final output from c:\\users\\asusgo\\appdata\\local\\temp\\MRBgram1.AsusGo.20171022.230715.815000\\output...\n",
      "Streaming final output from c:\\users\\asusgo\\appdata\\local\\temp\\MRBgram1.AsusGo.20171022.230715.815000\\output...\n",
      "Streaming final output from c:\\users\\asusgo\\appdata\\local\\temp\\MRBgram1.AsusGo.20171022.230715.815000\\output...\n",
      "Streaming final output from c:\\users\\asusgo\\appdata\\local\\temp\\MRBgram1.AsusGo.20171022.230715.815000\\output...\n",
      "Streaming final output from c:\\users\\asusgo\\appdata\\local\\temp\\MRBgram1.AsusGo.20171022.230715.815000\\output...\n",
      "Streaming final output from c:\\users\\asusgo\\appdata\\local\\temp\\MRBgram1.AsusGo.20171022.230715.815000\\output...\n",
      "Streaming final output from c:\\users\\asusgo\\appdata\\local\\temp\\MRBgram1.AsusGo.20171022.230715.815000\\output...\n",
      "Streaming final output from c:\\users\\asusgo\\appdata\\local\\temp\\MRBgram1.AsusGo.20171022.230715.815000\\output...\n",
      "INFO:mrjob.runner:Streaming final output from c:\\users\\asusgo\\appdata\\local\\temp\\MRBgram1.AsusGo.20171022.230715.815000\\output...\n",
      "Removing temp directory c:\\users\\asusgo\\appdata\\local\\temp\\MRBgram1.AsusGo.20171022.230715.815000...\n",
      "Removing temp directory c:\\users\\asusgo\\appdata\\local\\temp\\MRBgram1.AsusGo.20171022.230715.815000...\n",
      "Removing temp directory c:\\users\\asusgo\\appdata\\local\\temp\\MRBgram1.AsusGo.20171022.230715.815000...\n",
      "Removing temp directory c:\\users\\asusgo\\appdata\\local\\temp\\MRBgram1.AsusGo.20171022.230715.815000...\n",
      "Removing temp directory c:\\users\\asusgo\\appdata\\local\\temp\\MRBgram1.AsusGo.20171022.230715.815000...\n",
      "Removing temp directory c:\\users\\asusgo\\appdata\\local\\temp\\MRBgram1.AsusGo.20171022.230715.815000...\n",
      "Removing temp directory c:\\users\\asusgo\\appdata\\local\\temp\\MRBgram1.AsusGo.20171022.230715.815000...\n",
      "Removing temp directory c:\\users\\asusgo\\appdata\\local\\temp\\MRBgram1.AsusGo.20171022.230715.815000...\n",
      "Removing temp directory c:\\users\\asusgo\\appdata\\local\\temp\\MRBgram1.AsusGo.20171022.230715.815000...\n",
      "Removing temp directory c:\\users\\asusgo\\appdata\\local\\temp\\MRBgram1.AsusGo.20171022.230715.815000...\n",
      "Removing temp directory c:\\users\\asusgo\\appdata\\local\\temp\\MRBgram1.AsusGo.20171022.230715.815000...\n",
      "INFO:mrjob.runner:Removing temp directory c:\\users\\asusgo\\appdata\\local\\temp\\MRBgram1.AsusGo.20171022.230715.815000...\n"
     ]
    }
   ],
   "source": [
    "%%capture out1\n",
    "run MRBgram1.py data/bible+shakes.nopunc.txt"
   ]
  },
  {
   "cell_type": "code",
   "execution_count": 139,
   "metadata": {},
   "outputs": [],
   "source": [
    "with open('output1.txt','w') as f:\n",
    "    f.write(out1.stdout)"
   ]
  },
  {
   "cell_type": "code",
   "execution_count": 140,
   "metadata": {},
   "outputs": [
    {
     "data": {
      "text/html": [
       "<div>\n",
       "<style>\n",
       "    .dataframe thead tr:only-child th {\n",
       "        text-align: right;\n",
       "    }\n",
       "\n",
       "    .dataframe thead th {\n",
       "        text-align: left;\n",
       "    }\n",
       "\n",
       "    .dataframe tbody tr th {\n",
       "        vertical-align: top;\n",
       "    }\n",
       "</style>\n",
       "<table border=\"1\" class=\"dataframe\">\n",
       "  <thead>\n",
       "    <tr style=\"text-align: right;\">\n",
       "      <th></th>\n",
       "      <th>0</th>\n",
       "      <th>1</th>\n",
       "    </tr>\n",
       "  </thead>\n",
       "  <tbody>\n",
       "    <tr>\n",
       "      <th>252901</th>\n",
       "      <td>[\"of\", \"the\"]</td>\n",
       "      <td>13037</td>\n",
       "    </tr>\n",
       "    <tr>\n",
       "      <th>29212</th>\n",
       "      <td>[\"and\", \"the\"]</td>\n",
       "      <td>7034</td>\n",
       "    </tr>\n",
       "    <tr>\n",
       "      <th>345164</th>\n",
       "      <td>[\"the\", \"lord\"]</td>\n",
       "      <td>7017</td>\n",
       "    </tr>\n",
       "    <tr>\n",
       "      <th>180556</th>\n",
       "      <td>[\"in\", \"the\"]</td>\n",
       "      <td>6738</td>\n",
       "    </tr>\n",
       "    <tr>\n",
       "      <th>372817</th>\n",
       "      <td>[\"to\", \"the\"]</td>\n",
       "      <td>3799</td>\n",
       "    </tr>\n",
       "    <tr>\n",
       "      <th>176157</th>\n",
       "      <td>[\"i\", \"will\"]</td>\n",
       "      <td>3470</td>\n",
       "    </tr>\n",
       "    <tr>\n",
       "      <th>25184</th>\n",
       "      <td>[\"and\", \"he\"]</td>\n",
       "      <td>3020</td>\n",
       "    </tr>\n",
       "    <tr>\n",
       "      <th>304625</th>\n",
       "      <td>[\"shall\", \"be\"]</td>\n",
       "      <td>3013</td>\n",
       "    </tr>\n",
       "    <tr>\n",
       "      <th>17947</th>\n",
       "      <td>[\"all\", \"the\"]</td>\n",
       "      <td>2714</td>\n",
       "    </tr>\n",
       "    <tr>\n",
       "      <th>175128</th>\n",
       "      <td>[\"i\", \"have\"]</td>\n",
       "      <td>2666</td>\n",
       "    </tr>\n",
       "  </tbody>\n",
       "</table>\n",
       "</div>"
      ],
      "text/plain": [
       "                      0      1\n",
       "252901    [\"of\", \"the\"]  13037\n",
       "29212    [\"and\", \"the\"]   7034\n",
       "345164  [\"the\", \"lord\"]   7017\n",
       "180556    [\"in\", \"the\"]   6738\n",
       "372817    [\"to\", \"the\"]   3799\n",
       "176157    [\"i\", \"will\"]   3470\n",
       "25184     [\"and\", \"he\"]   3020\n",
       "304625  [\"shall\", \"be\"]   3013\n",
       "17947    [\"all\", \"the\"]   2714\n",
       "175128    [\"i\", \"have\"]   2666"
      ]
     },
     "execution_count": 140,
     "metadata": {},
     "output_type": "execute_result"
    }
   ],
   "source": [
    "df1 = pd.read_csv(\"output1.txt\", sep='\\t', header = None)\n",
    "df_bigram=(df1.sort_values(1, ascending=False)).head(10)\n",
    "df_bigram"
   ]
  },
  {
   "cell_type": "markdown",
   "metadata": {},
   "source": [
    "## Homework 5.2\n",
    "Now do the same analysis but make the word order not count \"in the\" == \"the in\".  Find the 10 most common ordered bigrams from the alice text.  \n",
    " "
   ]
  },
  {
   "cell_type": "code",
   "execution_count": null,
   "metadata": {},
   "outputs": [],
   "source": [
    "# %load MRBgram.py\n",
    "import re\n",
    "import heapq\n",
    "from mrjob.job import MRJob\n",
    "WORD_RE = re.compile(r\"[\\w']+\")\n",
    "class MRBgram(MRJob):\n",
    "    \n",
    "    def mapper(self, _, line):\n",
    "        w = line.split()\n",
    "        for i in range(len(w)-1):\n",
    "            yield  [w[i],w[i+1]], 1\n",
    "            #print (heapq.nlargest(10,bigram_list )) \n",
    "            \n",
    "    def combiner(self,w,counts):\n",
    "        yield sorted(w), sum(counts)\n",
    "    def reducer(self,w,counts):\n",
    "        yield sorted(w), sum(counts)\n",
    "            \n",
    "         \n",
    "    # ignore this part - its just standard bolierplate for mrjob!\n",
    "if __name__ == '__main__':\n",
    "    MRBgram.run()"
   ]
  },
  {
   "cell_type": "code",
   "execution_count": 143,
   "metadata": {},
   "outputs": [
    {
     "name": "stderr",
     "output_type": "stream",
     "text": [
      "No configs found; falling back on auto-configuration\n",
      "No configs found; falling back on auto-configuration\n",
      "No configs found; falling back on auto-configuration\n",
      "No configs found; falling back on auto-configuration\n",
      "No configs found; falling back on auto-configuration\n",
      "No configs found; falling back on auto-configuration\n",
      "No configs found; falling back on auto-configuration\n",
      "No configs found; falling back on auto-configuration\n",
      "No configs found; falling back on auto-configuration\n",
      "No configs found; falling back on auto-configuration\n",
      "No configs found; falling back on auto-configuration\n",
      "INFO:mrjob.conf:No configs found; falling back on auto-configuration\n",
      "Creating temp directory c:\\users\\asusgo\\appdata\\local\\temp\\MRBgram.AsusGo.20171022.230806.733000\n",
      "Creating temp directory c:\\users\\asusgo\\appdata\\local\\temp\\MRBgram.AsusGo.20171022.230806.733000\n",
      "Creating temp directory c:\\users\\asusgo\\appdata\\local\\temp\\MRBgram.AsusGo.20171022.230806.733000\n",
      "Creating temp directory c:\\users\\asusgo\\appdata\\local\\temp\\MRBgram.AsusGo.20171022.230806.733000\n",
      "Creating temp directory c:\\users\\asusgo\\appdata\\local\\temp\\MRBgram.AsusGo.20171022.230806.733000\n",
      "Creating temp directory c:\\users\\asusgo\\appdata\\local\\temp\\MRBgram.AsusGo.20171022.230806.733000\n",
      "Creating temp directory c:\\users\\asusgo\\appdata\\local\\temp\\MRBgram.AsusGo.20171022.230806.733000\n",
      "Creating temp directory c:\\users\\asusgo\\appdata\\local\\temp\\MRBgram.AsusGo.20171022.230806.733000\n",
      "Creating temp directory c:\\users\\asusgo\\appdata\\local\\temp\\MRBgram.AsusGo.20171022.230806.733000\n",
      "Creating temp directory c:\\users\\asusgo\\appdata\\local\\temp\\MRBgram.AsusGo.20171022.230806.733000\n",
      "Creating temp directory c:\\users\\asusgo\\appdata\\local\\temp\\MRBgram.AsusGo.20171022.230806.733000\n",
      "INFO:mrjob.runner:Creating temp directory c:\\users\\asusgo\\appdata\\local\\temp\\MRBgram.AsusGo.20171022.230806.733000\n",
      "Running step 1 of 1...\n",
      "Running step 1 of 1...\n",
      "Running step 1 of 1...\n",
      "Running step 1 of 1...\n",
      "Running step 1 of 1...\n",
      "Running step 1 of 1...\n",
      "Running step 1 of 1...\n",
      "Running step 1 of 1...\n",
      "Running step 1 of 1...\n",
      "Running step 1 of 1...\n",
      "Running step 1 of 1...\n",
      "INFO:mrjob.sim:Running step 1 of 1...\n",
      "Streaming final output from c:\\users\\asusgo\\appdata\\local\\temp\\MRBgram.AsusGo.20171022.230806.733000\\output...\n",
      "Streaming final output from c:\\users\\asusgo\\appdata\\local\\temp\\MRBgram.AsusGo.20171022.230806.733000\\output...\n",
      "Streaming final output from c:\\users\\asusgo\\appdata\\local\\temp\\MRBgram.AsusGo.20171022.230806.733000\\output...\n",
      "Streaming final output from c:\\users\\asusgo\\appdata\\local\\temp\\MRBgram.AsusGo.20171022.230806.733000\\output...\n",
      "Streaming final output from c:\\users\\asusgo\\appdata\\local\\temp\\MRBgram.AsusGo.20171022.230806.733000\\output...\n",
      "Streaming final output from c:\\users\\asusgo\\appdata\\local\\temp\\MRBgram.AsusGo.20171022.230806.733000\\output...\n",
      "Streaming final output from c:\\users\\asusgo\\appdata\\local\\temp\\MRBgram.AsusGo.20171022.230806.733000\\output...\n",
      "Streaming final output from c:\\users\\asusgo\\appdata\\local\\temp\\MRBgram.AsusGo.20171022.230806.733000\\output...\n",
      "Streaming final output from c:\\users\\asusgo\\appdata\\local\\temp\\MRBgram.AsusGo.20171022.230806.733000\\output...\n",
      "Streaming final output from c:\\users\\asusgo\\appdata\\local\\temp\\MRBgram.AsusGo.20171022.230806.733000\\output...\n",
      "Streaming final output from c:\\users\\asusgo\\appdata\\local\\temp\\MRBgram.AsusGo.20171022.230806.733000\\output...\n",
      "INFO:mrjob.runner:Streaming final output from c:\\users\\asusgo\\appdata\\local\\temp\\MRBgram.AsusGo.20171022.230806.733000\\output...\n",
      "Removing temp directory c:\\users\\asusgo\\appdata\\local\\temp\\MRBgram.AsusGo.20171022.230806.733000...\n",
      "Removing temp directory c:\\users\\asusgo\\appdata\\local\\temp\\MRBgram.AsusGo.20171022.230806.733000...\n",
      "Removing temp directory c:\\users\\asusgo\\appdata\\local\\temp\\MRBgram.AsusGo.20171022.230806.733000...\n",
      "Removing temp directory c:\\users\\asusgo\\appdata\\local\\temp\\MRBgram.AsusGo.20171022.230806.733000...\n",
      "Removing temp directory c:\\users\\asusgo\\appdata\\local\\temp\\MRBgram.AsusGo.20171022.230806.733000...\n",
      "Removing temp directory c:\\users\\asusgo\\appdata\\local\\temp\\MRBgram.AsusGo.20171022.230806.733000...\n",
      "Removing temp directory c:\\users\\asusgo\\appdata\\local\\temp\\MRBgram.AsusGo.20171022.230806.733000...\n",
      "Removing temp directory c:\\users\\asusgo\\appdata\\local\\temp\\MRBgram.AsusGo.20171022.230806.733000...\n",
      "Removing temp directory c:\\users\\asusgo\\appdata\\local\\temp\\MRBgram.AsusGo.20171022.230806.733000...\n",
      "Removing temp directory c:\\users\\asusgo\\appdata\\local\\temp\\MRBgram.AsusGo.20171022.230806.733000...\n",
      "Removing temp directory c:\\users\\asusgo\\appdata\\local\\temp\\MRBgram.AsusGo.20171022.230806.733000...\n",
      "INFO:mrjob.runner:Removing temp directory c:\\users\\asusgo\\appdata\\local\\temp\\MRBgram.AsusGo.20171022.230806.733000...\n"
     ]
    }
   ],
   "source": [
    "%%capture out\n",
    "run MRBgram.py data/bible+shakes.nopunc.txt"
   ]
  },
  {
   "cell_type": "code",
   "execution_count": 144,
   "metadata": {
    "collapsed": true
   },
   "outputs": [],
   "source": [
    "with open('output.txt','w') as f:\n",
    "    f.write(out.stdout)"
   ]
  },
  {
   "cell_type": "code",
   "execution_count": 145,
   "metadata": {},
   "outputs": [
    {
     "data": {
      "text/html": [
       "<div>\n",
       "<style>\n",
       "    .dataframe thead tr:only-child th {\n",
       "        text-align: right;\n",
       "    }\n",
       "\n",
       "    .dataframe thead th {\n",
       "        text-align: left;\n",
       "    }\n",
       "\n",
       "    .dataframe tbody tr th {\n",
       "        vertical-align: top;\n",
       "    }\n",
       "</style>\n",
       "<table border=\"1\" class=\"dataframe\">\n",
       "  <thead>\n",
       "    <tr style=\"text-align: right;\">\n",
       "      <th></th>\n",
       "      <th>0</th>\n",
       "      <th>1</th>\n",
       "    </tr>\n",
       "  </thead>\n",
       "  <tbody>\n",
       "    <tr>\n",
       "      <th>321325</th>\n",
       "      <td>[\"of\", \"the\"]</td>\n",
       "      <td>13037</td>\n",
       "    </tr>\n",
       "    <tr>\n",
       "      <th>286371</th>\n",
       "      <td>[\"lord\", \"the\"]</td>\n",
       "      <td>7244</td>\n",
       "    </tr>\n",
       "    <tr>\n",
       "      <th>45829</th>\n",
       "      <td>[\"and\", \"the\"]</td>\n",
       "      <td>7034</td>\n",
       "    </tr>\n",
       "    <tr>\n",
       "      <th>258205</th>\n",
       "      <td>[\"in\", \"the\"]</td>\n",
       "      <td>6739</td>\n",
       "    </tr>\n",
       "    <tr>\n",
       "      <th>252752</th>\n",
       "      <td>[\"i\", \"will\"]</td>\n",
       "      <td>4100</td>\n",
       "    </tr>\n",
       "    <tr>\n",
       "      <th>373435</th>\n",
       "      <td>[\"the\", \"to\"]</td>\n",
       "      <td>3799</td>\n",
       "    </tr>\n",
       "    <tr>\n",
       "      <th>39496</th>\n",
       "      <td>[\"and\", \"he\"]</td>\n",
       "      <td>3129</td>\n",
       "    </tr>\n",
       "    <tr>\n",
       "      <th>226609</th>\n",
       "      <td>[\"have\", \"i\"]</td>\n",
       "      <td>3123</td>\n",
       "    </tr>\n",
       "    <tr>\n",
       "      <th>74052</th>\n",
       "      <td>[\"be\", \"shall\"]</td>\n",
       "      <td>3015</td>\n",
       "    </tr>\n",
       "    <tr>\n",
       "      <th>30840</th>\n",
       "      <td>[\"am\", \"i\"]</td>\n",
       "      <td>2881</td>\n",
       "    </tr>\n",
       "  </tbody>\n",
       "</table>\n",
       "</div>"
      ],
      "text/plain": [
       "                      0      1\n",
       "321325    [\"of\", \"the\"]  13037\n",
       "286371  [\"lord\", \"the\"]   7244\n",
       "45829    [\"and\", \"the\"]   7034\n",
       "258205    [\"in\", \"the\"]   6739\n",
       "252752    [\"i\", \"will\"]   4100\n",
       "373435    [\"the\", \"to\"]   3799\n",
       "39496     [\"and\", \"he\"]   3129\n",
       "226609    [\"have\", \"i\"]   3123\n",
       "74052   [\"be\", \"shall\"]   3015\n",
       "30840       [\"am\", \"i\"]   2881"
      ]
     },
     "execution_count": 145,
     "metadata": {},
     "output_type": "execute_result"
    }
   ],
   "source": [
    "df = pd.read_csv(\"output.txt\", sep='\\t', header = None)\n",
    "(df.sort_values(1, ascending=False)).head(10)"
   ]
  },
  {
   "cell_type": "markdown",
   "metadata": {},
   "source": [
    "## Homework 5.3\n",
    "A trigram are three word combintation.  Find the 10 most common ordered trigrams from the alice text.  Make it so that the order of the words do not count in the trigram combination for example \"in the air\" is the same trigram as \"the air in\" or \"air in the\"...\n"
   ]
  },
  {
   "cell_type": "code",
   "execution_count": 146,
   "metadata": {},
   "outputs": [
    {
     "name": "stdout",
     "output_type": "stream",
     "text": [
      "Overwriting MRTrigram_sorted.py\n"
     ]
    }
   ],
   "source": [
    "%%writefile MRTrigram_sorted.py\n",
    "import re\n",
    "from mrjob.job import MRJob\n",
    "WORD_RE = re.compile(r\"[\\w']+\")\n",
    "class MRTrigram_sorted(MRJob):\n",
    "    \n",
    "    def mapper(self, _, line):\n",
    "        w = line.split()\n",
    "        for i in range(len(w)-2):\n",
    "            yield  [w[i],w[i+1],w[i+2]], 1\n",
    "            #print (heapq.nlargest(10,bigram_list )) \n",
    "            \n",
    "    def combiner(self,w,counts):\n",
    "        yield sorted(w), sum(counts)\n",
    "    def reducer(self,w,counts):\n",
    "        yield sorted(w), sum(counts)\n",
    "            \n",
    "         \n",
    "    # ignore this part - its just standard bolierplate for mrjob!\n",
    "if __name__ == '__main__':\n",
    "    MRTrigram_sorted.run()"
   ]
  },
  {
   "cell_type": "code",
   "execution_count": 147,
   "metadata": {},
   "outputs": [
    {
     "name": "stderr",
     "output_type": "stream",
     "text": [
      "No configs found; falling back on auto-configuration\n",
      "No configs found; falling back on auto-configuration\n",
      "No configs found; falling back on auto-configuration\n",
      "No configs found; falling back on auto-configuration\n",
      "No configs found; falling back on auto-configuration\n",
      "No configs found; falling back on auto-configuration\n",
      "No configs found; falling back on auto-configuration\n",
      "No configs found; falling back on auto-configuration\n",
      "No configs found; falling back on auto-configuration\n",
      "No configs found; falling back on auto-configuration\n",
      "No configs found; falling back on auto-configuration\n",
      "INFO:mrjob.conf:No configs found; falling back on auto-configuration\n",
      "Creating temp directory c:\\users\\asusgo\\appdata\\local\\temp\\MRTrigram_sorted.AsusGo.20171022.230845.683000\n",
      "Creating temp directory c:\\users\\asusgo\\appdata\\local\\temp\\MRTrigram_sorted.AsusGo.20171022.230845.683000\n",
      "Creating temp directory c:\\users\\asusgo\\appdata\\local\\temp\\MRTrigram_sorted.AsusGo.20171022.230845.683000\n",
      "Creating temp directory c:\\users\\asusgo\\appdata\\local\\temp\\MRTrigram_sorted.AsusGo.20171022.230845.683000\n",
      "Creating temp directory c:\\users\\asusgo\\appdata\\local\\temp\\MRTrigram_sorted.AsusGo.20171022.230845.683000\n",
      "Creating temp directory c:\\users\\asusgo\\appdata\\local\\temp\\MRTrigram_sorted.AsusGo.20171022.230845.683000\n",
      "Creating temp directory c:\\users\\asusgo\\appdata\\local\\temp\\MRTrigram_sorted.AsusGo.20171022.230845.683000\n",
      "Creating temp directory c:\\users\\asusgo\\appdata\\local\\temp\\MRTrigram_sorted.AsusGo.20171022.230845.683000\n",
      "Creating temp directory c:\\users\\asusgo\\appdata\\local\\temp\\MRTrigram_sorted.AsusGo.20171022.230845.683000\n",
      "Creating temp directory c:\\users\\asusgo\\appdata\\local\\temp\\MRTrigram_sorted.AsusGo.20171022.230845.683000\n",
      "Creating temp directory c:\\users\\asusgo\\appdata\\local\\temp\\MRTrigram_sorted.AsusGo.20171022.230845.683000\n",
      "INFO:mrjob.runner:Creating temp directory c:\\users\\asusgo\\appdata\\local\\temp\\MRTrigram_sorted.AsusGo.20171022.230845.683000\n",
      "Running step 1 of 1...\n",
      "Running step 1 of 1...\n",
      "Running step 1 of 1...\n",
      "Running step 1 of 1...\n",
      "Running step 1 of 1...\n",
      "Running step 1 of 1...\n",
      "Running step 1 of 1...\n",
      "Running step 1 of 1...\n",
      "Running step 1 of 1...\n",
      "Running step 1 of 1...\n",
      "Running step 1 of 1...\n",
      "INFO:mrjob.sim:Running step 1 of 1...\n",
      "Streaming final output from c:\\users\\asusgo\\appdata\\local\\temp\\MRTrigram_sorted.AsusGo.20171022.230845.683000\\output...\n",
      "Streaming final output from c:\\users\\asusgo\\appdata\\local\\temp\\MRTrigram_sorted.AsusGo.20171022.230845.683000\\output...\n",
      "Streaming final output from c:\\users\\asusgo\\appdata\\local\\temp\\MRTrigram_sorted.AsusGo.20171022.230845.683000\\output...\n",
      "Streaming final output from c:\\users\\asusgo\\appdata\\local\\temp\\MRTrigram_sorted.AsusGo.20171022.230845.683000\\output...\n",
      "Streaming final output from c:\\users\\asusgo\\appdata\\local\\temp\\MRTrigram_sorted.AsusGo.20171022.230845.683000\\output...\n",
      "Streaming final output from c:\\users\\asusgo\\appdata\\local\\temp\\MRTrigram_sorted.AsusGo.20171022.230845.683000\\output...\n",
      "Streaming final output from c:\\users\\asusgo\\appdata\\local\\temp\\MRTrigram_sorted.AsusGo.20171022.230845.683000\\output...\n",
      "Streaming final output from c:\\users\\asusgo\\appdata\\local\\temp\\MRTrigram_sorted.AsusGo.20171022.230845.683000\\output...\n",
      "Streaming final output from c:\\users\\asusgo\\appdata\\local\\temp\\MRTrigram_sorted.AsusGo.20171022.230845.683000\\output...\n",
      "Streaming final output from c:\\users\\asusgo\\appdata\\local\\temp\\MRTrigram_sorted.AsusGo.20171022.230845.683000\\output...\n",
      "Streaming final output from c:\\users\\asusgo\\appdata\\local\\temp\\MRTrigram_sorted.AsusGo.20171022.230845.683000\\output...\n",
      "INFO:mrjob.runner:Streaming final output from c:\\users\\asusgo\\appdata\\local\\temp\\MRTrigram_sorted.AsusGo.20171022.230845.683000\\output...\n",
      "Removing temp directory c:\\users\\asusgo\\appdata\\local\\temp\\MRTrigram_sorted.AsusGo.20171022.230845.683000...\n",
      "Removing temp directory c:\\users\\asusgo\\appdata\\local\\temp\\MRTrigram_sorted.AsusGo.20171022.230845.683000...\n",
      "Removing temp directory c:\\users\\asusgo\\appdata\\local\\temp\\MRTrigram_sorted.AsusGo.20171022.230845.683000...\n",
      "Removing temp directory c:\\users\\asusgo\\appdata\\local\\temp\\MRTrigram_sorted.AsusGo.20171022.230845.683000...\n",
      "Removing temp directory c:\\users\\asusgo\\appdata\\local\\temp\\MRTrigram_sorted.AsusGo.20171022.230845.683000...\n",
      "Removing temp directory c:\\users\\asusgo\\appdata\\local\\temp\\MRTrigram_sorted.AsusGo.20171022.230845.683000...\n",
      "Removing temp directory c:\\users\\asusgo\\appdata\\local\\temp\\MRTrigram_sorted.AsusGo.20171022.230845.683000...\n",
      "Removing temp directory c:\\users\\asusgo\\appdata\\local\\temp\\MRTrigram_sorted.AsusGo.20171022.230845.683000...\n",
      "Removing temp directory c:\\users\\asusgo\\appdata\\local\\temp\\MRTrigram_sorted.AsusGo.20171022.230845.683000...\n",
      "Removing temp directory c:\\users\\asusgo\\appdata\\local\\temp\\MRTrigram_sorted.AsusGo.20171022.230845.683000...\n",
      "Removing temp directory c:\\users\\asusgo\\appdata\\local\\temp\\MRTrigram_sorted.AsusGo.20171022.230845.683000...\n",
      "INFO:mrjob.runner:Removing temp directory c:\\users\\asusgo\\appdata\\local\\temp\\MRTrigram_sorted.AsusGo.20171022.230845.683000...\n"
     ]
    }
   ],
   "source": [
    "%%capture out2\n",
    "run MRTrigram_sorted.py data/bible+shakes.nopunc.txt"
   ]
  },
  {
   "cell_type": "markdown",
   "metadata": {},
   "source": [
    "Reading the content of a captured object is stored in a file then that file is read as a dataframe and top ten trigrams are displayed."
   ]
  },
  {
   "cell_type": "code",
   "execution_count": 148,
   "metadata": {},
   "outputs": [
    {
     "data": {
      "text/html": [
       "<div>\n",
       "<style>\n",
       "    .dataframe thead tr:only-child th {\n",
       "        text-align: right;\n",
       "    }\n",
       "\n",
       "    .dataframe thead th {\n",
       "        text-align: left;\n",
       "    }\n",
       "\n",
       "    .dataframe tbody tr th {\n",
       "        vertical-align: top;\n",
       "    }\n",
       "</style>\n",
       "<table border=\"1\" class=\"dataframe\">\n",
       "  <thead>\n",
       "    <tr style=\"text-align: right;\">\n",
       "      <th></th>\n",
       "      <th>0</th>\n",
       "      <th>1</th>\n",
       "    </tr>\n",
       "  </thead>\n",
       "  <tbody>\n",
       "    <tr>\n",
       "      <th>734688</th>\n",
       "      <td>[\"lord\", \"of\", \"the\"]</td>\n",
       "      <td>2053</td>\n",
       "    </tr>\n",
       "    <tr>\n",
       "      <th>369974</th>\n",
       "      <td>[\"children\", \"of\", \"the\"]</td>\n",
       "      <td>1794</td>\n",
       "    </tr>\n",
       "    <tr>\n",
       "      <th>650597</th>\n",
       "      <td>[\"house\", \"of\", \"the\"]</td>\n",
       "      <td>1581</td>\n",
       "    </tr>\n",
       "    <tr>\n",
       "      <th>793389</th>\n",
       "      <td>[\"of\", \"son\", \"the\"]</td>\n",
       "      <td>1523</td>\n",
       "    </tr>\n",
       "    <tr>\n",
       "      <th>165431</th>\n",
       "      <td>[\"and\", \"lord\", \"the\"]</td>\n",
       "      <td>1187</td>\n",
       "    </tr>\n",
       "    <tr>\n",
       "      <th>718823</th>\n",
       "      <td>[\"land\", \"of\", \"the\"]</td>\n",
       "      <td>1025</td>\n",
       "    </tr>\n",
       "    <tr>\n",
       "      <th>735112</th>\n",
       "      <td>[\"lord\", \"saith\", \"the\"]</td>\n",
       "      <td>866</td>\n",
       "    </tr>\n",
       "    <tr>\n",
       "      <th>788616</th>\n",
       "      <td>[\"of\", \"out\", \"the\"]</td>\n",
       "      <td>855</td>\n",
       "    </tr>\n",
       "    <tr>\n",
       "      <th>156975</th>\n",
       "      <td>[\"and\", \"i\", \"will\"]</td>\n",
       "      <td>813</td>\n",
       "    </tr>\n",
       "    <tr>\n",
       "      <th>793461</th>\n",
       "      <td>[\"of\", \"sons\", \"the\"]</td>\n",
       "      <td>762</td>\n",
       "    </tr>\n",
       "  </tbody>\n",
       "</table>\n",
       "</div>"
      ],
      "text/plain": [
       "                                0     1\n",
       "734688      [\"lord\", \"of\", \"the\"]  2053\n",
       "369974  [\"children\", \"of\", \"the\"]  1794\n",
       "650597     [\"house\", \"of\", \"the\"]  1581\n",
       "793389       [\"of\", \"son\", \"the\"]  1523\n",
       "165431     [\"and\", \"lord\", \"the\"]  1187\n",
       "718823      [\"land\", \"of\", \"the\"]  1025\n",
       "735112   [\"lord\", \"saith\", \"the\"]   866\n",
       "788616       [\"of\", \"out\", \"the\"]   855\n",
       "156975       [\"and\", \"i\", \"will\"]   813\n",
       "793461      [\"of\", \"sons\", \"the\"]   762"
      ]
     },
     "execution_count": 148,
     "metadata": {},
     "output_type": "execute_result"
    }
   ],
   "source": [
    "with open('Trigram_output.txt','w') as f:\n",
    "    f.write(out2.stdout)\n",
    "    \n",
    "df2 = pd.read_csv(\"Trigram_output.txt\", sep='\\t', header = None)\n",
    "df_trigram=(df2.sort_values(1, ascending=False)).head(10)\n",
    "df_trigram"
   ]
  },
  {
   "cell_type": "markdown",
   "metadata": {},
   "source": [
    "# 5.4 Plotting graph for observing frequency count of monograms,bigrams and trigrams"
   ]
  },
  {
   "cell_type": "markdown",
   "metadata": {},
   "source": [
    "Program for displaying monograms which is used in monogram graph ploting"
   ]
  },
  {
   "cell_type": "code",
   "execution_count": 149,
   "metadata": {},
   "outputs": [
    {
     "name": "stdout",
     "output_type": "stream",
     "text": [
      "Overwriting MRMonogram_sorted.py\n"
     ]
    }
   ],
   "source": [
    "%%writefile MRMonogram_sorted.py\n",
    "import re\n",
    "from mrjob.job import MRJob\n",
    "WORD_RE = re.compile(r\"[\\w']+\")\n",
    "class MRMonogram_sorted(MRJob):\n",
    "    \n",
    "    def mapper(self, _, line):\n",
    "        w = line.split()\n",
    "        for i in range(len(w)-2):\n",
    "            yield  [w[i]], 1\n",
    "            #print (heapq.nlargest(10,bigram_list )) \n",
    "            \n",
    "    def combiner(self,w,counts):\n",
    "        yield sorted(w), sum(counts)\n",
    "    def reducer(self,w,counts):\n",
    "        yield sorted(w), sum(counts)\n",
    "            \n",
    "         \n",
    "    # ignore this part - its just standard bolierplate for mrjob!\n",
    "if __name__ == '__main__':\n",
    "    MRMonogram_sorted.run()"
   ]
  },
  {
   "cell_type": "code",
   "execution_count": 150,
   "metadata": {},
   "outputs": [
    {
     "name": "stderr",
     "output_type": "stream",
     "text": [
      "No configs found; falling back on auto-configuration\n",
      "No configs found; falling back on auto-configuration\n",
      "No configs found; falling back on auto-configuration\n",
      "No configs found; falling back on auto-configuration\n",
      "No configs found; falling back on auto-configuration\n",
      "No configs found; falling back on auto-configuration\n",
      "No configs found; falling back on auto-configuration\n",
      "No configs found; falling back on auto-configuration\n",
      "No configs found; falling back on auto-configuration\n",
      "No configs found; falling back on auto-configuration\n",
      "No configs found; falling back on auto-configuration\n",
      "INFO:mrjob.conf:No configs found; falling back on auto-configuration\n",
      "Creating temp directory c:\\users\\asusgo\\appdata\\local\\temp\\MRMonogram_sorted.AsusGo.20171022.230945.843000\n",
      "Creating temp directory c:\\users\\asusgo\\appdata\\local\\temp\\MRMonogram_sorted.AsusGo.20171022.230945.843000\n",
      "Creating temp directory c:\\users\\asusgo\\appdata\\local\\temp\\MRMonogram_sorted.AsusGo.20171022.230945.843000\n",
      "Creating temp directory c:\\users\\asusgo\\appdata\\local\\temp\\MRMonogram_sorted.AsusGo.20171022.230945.843000\n",
      "Creating temp directory c:\\users\\asusgo\\appdata\\local\\temp\\MRMonogram_sorted.AsusGo.20171022.230945.843000\n",
      "Creating temp directory c:\\users\\asusgo\\appdata\\local\\temp\\MRMonogram_sorted.AsusGo.20171022.230945.843000\n",
      "Creating temp directory c:\\users\\asusgo\\appdata\\local\\temp\\MRMonogram_sorted.AsusGo.20171022.230945.843000\n",
      "Creating temp directory c:\\users\\asusgo\\appdata\\local\\temp\\MRMonogram_sorted.AsusGo.20171022.230945.843000\n",
      "Creating temp directory c:\\users\\asusgo\\appdata\\local\\temp\\MRMonogram_sorted.AsusGo.20171022.230945.843000\n",
      "Creating temp directory c:\\users\\asusgo\\appdata\\local\\temp\\MRMonogram_sorted.AsusGo.20171022.230945.843000\n",
      "Creating temp directory c:\\users\\asusgo\\appdata\\local\\temp\\MRMonogram_sorted.AsusGo.20171022.230945.843000\n",
      "INFO:mrjob.runner:Creating temp directory c:\\users\\asusgo\\appdata\\local\\temp\\MRMonogram_sorted.AsusGo.20171022.230945.843000\n",
      "Running step 1 of 1...\n",
      "Running step 1 of 1...\n",
      "Running step 1 of 1...\n",
      "Running step 1 of 1...\n",
      "Running step 1 of 1...\n",
      "Running step 1 of 1...\n",
      "Running step 1 of 1...\n",
      "Running step 1 of 1...\n",
      "Running step 1 of 1...\n",
      "Running step 1 of 1...\n",
      "Running step 1 of 1...\n",
      "INFO:mrjob.sim:Running step 1 of 1...\n",
      "Streaming final output from c:\\users\\asusgo\\appdata\\local\\temp\\MRMonogram_sorted.AsusGo.20171022.230945.843000\\output...\n",
      "Streaming final output from c:\\users\\asusgo\\appdata\\local\\temp\\MRMonogram_sorted.AsusGo.20171022.230945.843000\\output...\n",
      "Streaming final output from c:\\users\\asusgo\\appdata\\local\\temp\\MRMonogram_sorted.AsusGo.20171022.230945.843000\\output...\n",
      "Streaming final output from c:\\users\\asusgo\\appdata\\local\\temp\\MRMonogram_sorted.AsusGo.20171022.230945.843000\\output...\n",
      "Streaming final output from c:\\users\\asusgo\\appdata\\local\\temp\\MRMonogram_sorted.AsusGo.20171022.230945.843000\\output...\n",
      "Streaming final output from c:\\users\\asusgo\\appdata\\local\\temp\\MRMonogram_sorted.AsusGo.20171022.230945.843000\\output...\n",
      "Streaming final output from c:\\users\\asusgo\\appdata\\local\\temp\\MRMonogram_sorted.AsusGo.20171022.230945.843000\\output...\n",
      "Streaming final output from c:\\users\\asusgo\\appdata\\local\\temp\\MRMonogram_sorted.AsusGo.20171022.230945.843000\\output...\n",
      "Streaming final output from c:\\users\\asusgo\\appdata\\local\\temp\\MRMonogram_sorted.AsusGo.20171022.230945.843000\\output...\n",
      "Streaming final output from c:\\users\\asusgo\\appdata\\local\\temp\\MRMonogram_sorted.AsusGo.20171022.230945.843000\\output...\n",
      "Streaming final output from c:\\users\\asusgo\\appdata\\local\\temp\\MRMonogram_sorted.AsusGo.20171022.230945.843000\\output...\n",
      "INFO:mrjob.runner:Streaming final output from c:\\users\\asusgo\\appdata\\local\\temp\\MRMonogram_sorted.AsusGo.20171022.230945.843000\\output...\n",
      "Removing temp directory c:\\users\\asusgo\\appdata\\local\\temp\\MRMonogram_sorted.AsusGo.20171022.230945.843000...\n",
      "Removing temp directory c:\\users\\asusgo\\appdata\\local\\temp\\MRMonogram_sorted.AsusGo.20171022.230945.843000...\n",
      "Removing temp directory c:\\users\\asusgo\\appdata\\local\\temp\\MRMonogram_sorted.AsusGo.20171022.230945.843000...\n",
      "Removing temp directory c:\\users\\asusgo\\appdata\\local\\temp\\MRMonogram_sorted.AsusGo.20171022.230945.843000...\n",
      "Removing temp directory c:\\users\\asusgo\\appdata\\local\\temp\\MRMonogram_sorted.AsusGo.20171022.230945.843000...\n",
      "Removing temp directory c:\\users\\asusgo\\appdata\\local\\temp\\MRMonogram_sorted.AsusGo.20171022.230945.843000...\n",
      "Removing temp directory c:\\users\\asusgo\\appdata\\local\\temp\\MRMonogram_sorted.AsusGo.20171022.230945.843000...\n",
      "Removing temp directory c:\\users\\asusgo\\appdata\\local\\temp\\MRMonogram_sorted.AsusGo.20171022.230945.843000...\n",
      "Removing temp directory c:\\users\\asusgo\\appdata\\local\\temp\\MRMonogram_sorted.AsusGo.20171022.230945.843000...\n",
      "Removing temp directory c:\\users\\asusgo\\appdata\\local\\temp\\MRMonogram_sorted.AsusGo.20171022.230945.843000...\n",
      "Removing temp directory c:\\users\\asusgo\\appdata\\local\\temp\\MRMonogram_sorted.AsusGo.20171022.230945.843000...\n",
      "INFO:mrjob.runner:Removing temp directory c:\\users\\asusgo\\appdata\\local\\temp\\MRMonogram_sorted.AsusGo.20171022.230945.843000...\n"
     ]
    }
   ],
   "source": [
    "%%capture out3\n",
    "run MRMonogram_sorted.py data/bible+shakes.nopunc.txt"
   ]
  },
  {
   "cell_type": "code",
   "execution_count": 151,
   "metadata": {},
   "outputs": [
    {
     "data": {
      "text/html": [
       "<div>\n",
       "<style>\n",
       "    .dataframe thead tr:only-child th {\n",
       "        text-align: right;\n",
       "    }\n",
       "\n",
       "    .dataframe thead th {\n",
       "        text-align: left;\n",
       "    }\n",
       "\n",
       "    .dataframe tbody tr th {\n",
       "        vertical-align: top;\n",
       "    }\n",
       "</style>\n",
       "<table border=\"1\" class=\"dataframe\">\n",
       "  <thead>\n",
       "    <tr style=\"text-align: right;\">\n",
       "      <th></th>\n",
       "      <th>0</th>\n",
       "      <th>1</th>\n",
       "    </tr>\n",
       "  </thead>\n",
       "  <tbody>\n",
       "    <tr>\n",
       "      <th>32215</th>\n",
       "      <td>[\"the\"]</td>\n",
       "      <td>82272</td>\n",
       "    </tr>\n",
       "    <tr>\n",
       "      <th>6953</th>\n",
       "      <td>[\"and\"]</td>\n",
       "      <td>73297</td>\n",
       "    </tr>\n",
       "    <tr>\n",
       "      <th>24063</th>\n",
       "      <td>[\"of\"]</td>\n",
       "      <td>45526</td>\n",
       "    </tr>\n",
       "    <tr>\n",
       "      <th>32675</th>\n",
       "      <td>[\"to\"]</td>\n",
       "      <td>28991</td>\n",
       "    </tr>\n",
       "    <tr>\n",
       "      <th>18916</th>\n",
       "      <td>[\"i\"]</td>\n",
       "      <td>27581</td>\n",
       "    </tr>\n",
       "    <tr>\n",
       "      <th>32203</th>\n",
       "      <td>[\"that\"]</td>\n",
       "      <td>23109</td>\n",
       "    </tr>\n",
       "    <tr>\n",
       "      <th>19183</th>\n",
       "      <td>[\"in\"]</td>\n",
       "      <td>21418</td>\n",
       "    </tr>\n",
       "    <tr>\n",
       "      <th>5984</th>\n",
       "      <td>[\"a\"]</td>\n",
       "      <td>19312</td>\n",
       "    </tr>\n",
       "    <tr>\n",
       "      <th>17959</th>\n",
       "      <td>[\"he\"]</td>\n",
       "      <td>15807</td>\n",
       "    </tr>\n",
       "    <tr>\n",
       "      <th>16031</th>\n",
       "      <td>[\"for\"]</td>\n",
       "      <td>15109</td>\n",
       "    </tr>\n",
       "  </tbody>\n",
       "</table>\n",
       "</div>"
      ],
      "text/plain": [
       "              0      1\n",
       "32215   [\"the\"]  82272\n",
       "6953    [\"and\"]  73297\n",
       "24063    [\"of\"]  45526\n",
       "32675    [\"to\"]  28991\n",
       "18916     [\"i\"]  27581\n",
       "32203  [\"that\"]  23109\n",
       "19183    [\"in\"]  21418\n",
       "5984      [\"a\"]  19312\n",
       "17959    [\"he\"]  15807\n",
       "16031   [\"for\"]  15109"
      ]
     },
     "execution_count": 151,
     "metadata": {},
     "output_type": "execute_result"
    }
   ],
   "source": [
    "with open('Monogram_output.txt','w') as f:\n",
    "    f.write(out3.stdout)\n",
    "    \n",
    "df3 = pd.read_csv(\"Monogram_output.txt\", sep='\\t', header = None)\n",
    "df_monogram=(df3.sort_values(1, ascending=False)).head(10)\n",
    "df_monogram"
   ]
  },
  {
   "cell_type": "markdown",
   "metadata": {},
   "source": [
    "Pie graph for diaplaying bigram frequency count of top ten bigrams"
   ]
  },
  {
   "cell_type": "code",
   "execution_count": 152,
   "metadata": {},
   "outputs": [
    {
     "data": {
      "image/png": "[encoded data removed]",
      "text/plain": [
       "<matplotlib.figure.Figure at 0x10e9813c8>"
      ]
     },
     "metadata": {},
     "output_type": "display_data"
    }
   ],
   "source": [
    "import matplotlib.pyplot as plt\n",
    "df_bigram.plot.pie(subplots=True, autopct='%.2f',labels=df_bigram[0], figsize=(8, 4))\n",
    "plt.show()"
   ]
  },
  {
   "cell_type": "markdown",
   "metadata": {},
   "source": [
    "Pie graph for diaplaying trigram frequency count of top ten trigrams"
   ]
  },
  {
   "cell_type": "code",
   "execution_count": 153,
   "metadata": {},
   "outputs": [
    {
     "data": {
      "image/png": "[encoded data removed]",
      "text/plain": [
       "<matplotlib.figure.Figure at 0x1261099e8>"
      ]
     },
     "metadata": {},
     "output_type": "display_data"
    }
   ],
   "source": [
    "import matplotlib.pyplot as plt\n",
    "df_trigram.plot.pie(subplots=True,autopct='%.2f', labels=df_trigram[0], figsize=(8, 4))\n",
    "plt.show()"
   ]
  },
  {
   "cell_type": "markdown",
   "metadata": {},
   "source": [
    "Pie graph for diaplaying monogram frequency count of top ten monograms"
   ]
  },
  {
   "cell_type": "code",
   "execution_count": 154,
   "metadata": {},
   "outputs": [
    {
     "data": {
      "image/png": "[encoded data removed]",
      "text/plain": [
       "<matplotlib.figure.Figure at 0x30fbcfd0>"
      ]
     },
     "metadata": {},
     "output_type": "display_data"
    }
   ],
   "source": [
    "\n",
    "df_monogram.plot.pie(subplots=True, autopct='%.2f',labels=df_monogram[0], figsize=(8, 4))\n",
    "plt.show()"
   ]
  },
  {
   "cell_type": "markdown",
   "metadata": {},
   "source": [
    "## For greater than a score of 3 \n",
    "###  Create a TD - IDF implementation and \n",
    "### Analyze the following Sherlock Holmes book from Project Gutenberg text versions of :\n",
    "The Adventures of Sherlock Holmes-  http://www.gutenberg.org/ebooks/1661.txt.utf-8\n",
    "\n",
    "A Study in Scarlet - http://www.gutenberg.org/files/244/244-0.txt\n",
    "\n",
    "The Hound of the Baskervilles - http://www.gutenberg.org/files/2852/2852-0.txt\n",
    "\n",
    "The Return of Sherlock Holmes - http://www.gutenberg.org/files/108/108-0.txt\n",
    "\n",
    "The Sign of the Four - http://www.gutenberg.org/ebooks/2097.txt.utf-8\n",
    "\n",
    "### Display the scores for the top 20 highest frequencty terms and the relationship to the books\n",
    "\n"
   ]
  },
  {
   "cell_type": "markdown",
   "metadata": {},
   "source": [
    "References:\n",
    "\n",
    "https://pythonhosted.org/mrjob/\n",
    "\n",
    "https://stackoverflow.com/questions/26352572/mapreduce-python-bigrams\n",
    "\n",
    "https://stackoverflow.com/questions/22138230/mapreduce-how-to-keep-track-of-states-across-multiple-lines-in-the-mapper-say\n",
    "\n",
    "https://www.digitalocean.com/community/tutorials/how-to-graph-word-frequency-using-matplotlib-with-python-3\n",
    "\n",
    "https://stackoverflow.com/questions/40870854/mapreduce-job-to-yield-top-10-values-using-pythons-mrjob\n",
    "\n",
    "https://stackoverflow.com/questions/30690619/python-histogram-using-matplotlib-on-top-words\n",
    "\n",
    "https://pandas.pydata.org/pandas-docs/version/0.18.1/visualization.html\n",
    "\n",
    "https://stackoverflow.com/questions/30139243/saving-a-variable-in-a-text-file\n",
    "\n",
    "\n"
   ]
  }
 ],
 "metadata": {
  "kernelspec": {
   "display_name": "Python 2",
   "language": "python",
   "name": "python2"
  },
  "language_info": {
   "codemirror_mode": {
    "name": "ipython",
    "version": 2
   },
   "file_extension": ".py",
   "mimetype": "text/x-python",
   "name": "python",
   "nbconvert_exporter": "python",
   "pygments_lexer": "ipython2",
   "version": "2.7.13"
  }
 },
 "nbformat": 4,
 "nbformat_minor": 1
}
