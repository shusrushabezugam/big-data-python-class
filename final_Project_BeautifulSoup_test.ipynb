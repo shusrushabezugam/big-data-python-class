{
 "cells": [
  {
   "cell_type": "code",
   "execution_count": null,
   "metadata": {
    "collapsed": true
   },
   "outputs": [],
   "source": [
    "Google saerch results"
   ]
  },
  {
   "cell_type": "code",
   "execution_count": 43,
   "metadata": {},
   "outputs": [
    {
     "name": "stdout",
     "output_type": "stream",
     "text": [
      "Overwriting g_test2.py\n"
     ]
    }
   ],
   "source": [
    "%%writefile g_test2.py\n",
    "import requests \n",
    "from bs4 import BeautifulSoup\n",
    "\n",
    "search_item = \"google\"\n",
    "base = \"http://www.google.com\"\n",
    "url = \"http://www.google.com/search?q=\"+ search_item\n",
    "\n",
    "response = requests.get(url)\n",
    "soup = BeautifulSoup(response.text,\"lxml\")\n",
    "for items in soup.select(\".r a\"):\n",
    "    print(items.text)\n",
    "for next_page in soup.select(\".fl\"):\n",
    "    res = requests.get(base + next_page.get('href'))\n",
    "    soup = BeautifulSoup(res.text,\"lxml\")\n",
    "    for items in soup.select(\".r a\"):\n",
    "        print(items.text).encode('utf-8')"
   ]
  },
  {
   "cell_type": "code",
   "execution_count": 44,
   "metadata": {},
   "outputs": [
    {
     "name": "stdout",
     "output_type": "stream",
     "text": [
      "Microsoft Windows [Version 10.0.16299.125]\r\n",
      "(c) 2017 Microsoft Corporation. All rights reserved.\r\n",
      "\r\n",
      "C:\\Users\\AsusGo\\Downloads>python g_test2.py>test2.txt\n",
      "\r\n",
      "C:\\Users\\AsusGo\\Downloads>"
     ]
    }
   ],
   "source": [
    "%%cmd\n",
    "python g_test2.py>test2.txt"
   ]
  },
  {
   "cell_type": "markdown",
   "metadata": {},
   "source": [
    "Bing search results using python"
   ]
  },
  {
   "cell_type": "code",
   "execution_count": 19,
   "metadata": {},
   "outputs": [
    {
     "name": "stdout",
     "output_type": "stream",
     "text": [
      "Microsoft Windows [Version 10.0.16299.125]\r\n",
      "(c) 2017 Microsoft Corporation. All rights reserved.\r\n",
      "\r\n",
      "C:\\Users\\AsusGo\\Downloads>pip install BeautifulSoup4\n",
      "Requirement already satisfied: BeautifulSoup4 in c:\\users\\asusgo\\anaconda2\\lib\\site-packages\r\n",
      "\r\n",
      "C:\\Users\\AsusGo\\Downloads>"
     ]
    }
   ],
   "source": [
    "%%cmd\n",
    "pip install BeautifulSoup4"
   ]
  },
  {
   "cell_type": "code",
   "execution_count": 28,
   "metadata": {},
   "outputs": [
    {
     "name": "stdout",
     "output_type": "stream",
     "text": [
      "Writing b_suicide.py\n"
     ]
    }
   ],
   "source": [
    "%%writefile b_suicide.py\n",
    "from bs4 import BeautifulSoup\n",
    "try:\n",
    "    import urllib.request as urllib2\n",
    "except ImportError:\n",
    "    import urllib2\n",
    "import urllib\n",
    "\n",
    "def search(query):\n",
    "    address = \"http://www.bing.com/search?q=%s\" % (urllib.quote_plus(query))\n",
    "\n",
    "    getRequest = urllib2.Request(address, None, {'User-Agent':'Mozilla/5.0 (Windows NT 10.0; Win64; x64; rv:54.0) Gecko/20100101 Firefox/54.0'})\n",
    "\n",
    "    urlfile = urllib2.urlopen(getRequest)\n",
    "    htmlResult = urlfile.read(200000)\n",
    "    urlfile.close()\n",
    "\n",
    "    soup = BeautifulSoup(htmlResult,\"lxml\")\n",
    "\n",
    "    [s.extract() for s in soup('span')]\n",
    "    unwantedTags = ['a', 'strong', 'cite']\n",
    "    for tag in unwantedTags:\n",
    "        for match in soup.findAll(tag):\n",
    "            match.replaceWithChildren()\n",
    "\n",
    "    results = soup.findAll('li', { \"class\" : \"b_algo\" })\n",
    "    for result in results:\n",
    "            print \" \" + str(result.find('h2')).replace(\"<h2>\",\" \").replace(\"</h2>\",\" \") + \"\\n\"\n",
    "\n",
    "\n",
    "    return results\n",
    "\n",
    "if __name__=='__main__':\n",
    "    links = search('I want to commit suicide')\n"
   ]
  },
  {
   "cell_type": "code",
   "execution_count": 36,
   "metadata": {},
   "outputs": [
    {
     "name": "stdout",
     "output_type": "stream",
     "text": [
      "Microsoft Windows [Version 10.0.16299.125]\r\n",
      "(c) 2017 Microsoft Corporation. All rights reserved.\r\n",
      "\r\n",
      "C:\\Users\\AsusGo\\Downloads>python b_suicide.py>b_suicide.txt\n",
      "\r\n",
      "C:\\Users\\AsusGo\\Downloads>"
     ]
    }
   ],
   "source": [
    "%%cmd\n",
    "python b_suicide.py>b_suicide.txt"
   ]
  },
  {
   "cell_type": "code",
   "execution_count": null,
   "metadata": {
    "collapsed": true
   },
   "outputs": [],
   "source": [
    "try:\n",
    "    import urllib.request as urllib2\n",
    "except ImportError:\n",
    "    import urllib2\n",
    "from bs4 import BeautifulSoup\n",
    "import urllib\n",
    "import re\n",
    "\n",
    "import numpy as np\n",
    "count=0\n",
    "query=input(\"query>>\")\n",
    "query=query.strip().split()\n",
    "query=\"+\".join(query)\n",
    "\n",
    "html = \"https://www.google.co.in/search?site=&source=hp&q=\"+query+\"&gws_rd=ssl\"\n",
    "req = urllib.request.Request(html, headers={'User-Agent': 'Mozilla/5.0'})\n",
    "\n",
    "soup = BeautifulSoup(urlopen(req).read(),\"html.parser\")\n",
    "\n",
    "#Regex\n",
    "reg=re.compile(\".*&sa=\")\n",
    "\n",
    "links = []\n",
    "#Parsing web urls\n",
    "for item in soup.find_all('h3', attrs={'class' : 'r'}):\n",
    "    line = (reg.match(item.a['href'][7:]).group())\n",
    "    links.append(line[:-4])\n",
    "\n",
    "print(links)"
   ]
  },
  {
   "cell_type": "code",
   "execution_count": 25,
   "metadata": {},
   "outputs": [
    {
     "ename": "TypeError",
     "evalue": "'NoneType' object has no attribute '__getitem__'",
     "output_type": "error",
     "traceback": [
      "\u001b[1;31m\u001b[0m",
      "\u001b[1;31mTypeError\u001b[0mTraceback (most recent call last)",
      "\u001b[1;32m<ipython-input-25-2a1ea1bd19df>\u001b[0m in \u001b[0;36m<module>\u001b[1;34m()\u001b[0m\n\u001b[0;32m     25\u001b[0m \u001b[1;32mif\u001b[0m \u001b[0m__name__\u001b[0m\u001b[1;33m==\u001b[0m\u001b[1;34m'__main__'\u001b[0m\u001b[1;33m:\u001b[0m\u001b[1;33m\u001b[0m\u001b[0m\n\u001b[0;32m     26\u001b[0m    \u001b[1;31m# Example: Search written to file\u001b[0m\u001b[1;33m\u001b[0m\u001b[1;33m\u001b[0m\u001b[0m\n\u001b[1;32m---> 27\u001b[1;33m    \u001b[0mlinks\u001b[0m \u001b[1;33m=\u001b[0m \u001b[0myahoo_grab\u001b[0m\u001b[1;33m(\u001b[0m\u001b[1;34m'halotis'\u001b[0m\u001b[1;33m)\u001b[0m\u001b[1;33m\u001b[0m\u001b[0m\n\u001b[0m\u001b[0;32m     28\u001b[0m    \u001b[1;32mprint\u001b[0m \u001b[1;34m'\\n'\u001b[0m\u001b[1;33m.\u001b[0m\u001b[0mjoin\u001b[0m\u001b[1;33m(\u001b[0m\u001b[0mlinks\u001b[0m\u001b[1;33m)\u001b[0m\u001b[1;33m\u001b[0m\u001b[0m\n",
      "\u001b[1;32m<ipython-input-25-2a1ea1bd19df>\u001b[0m in \u001b[0;36myahoo_grab\u001b[1;34m(query)\u001b[0m\n\u001b[0;32m     19\u001b[0m    \u001b[0msoup\u001b[0m \u001b[1;33m=\u001b[0m \u001b[0mBeautifulSoup\u001b[0m\u001b[1;33m(\u001b[0m\u001b[0mpage\u001b[0m\u001b[1;33m)\u001b[0m\u001b[1;33m\u001b[0m\u001b[0m\n\u001b[0;32m     20\u001b[0m    \u001b[0murl_pattern\u001b[0m \u001b[1;33m=\u001b[0m \u001b[0mre\u001b[0m\u001b[1;33m.\u001b[0m\u001b[0mcompile\u001b[0m\u001b[1;33m(\u001b[0m\u001b[1;34m'/\\*\\*(.*)'\u001b[0m\u001b[1;33m)\u001b[0m\u001b[1;33m\u001b[0m\u001b[0m\n\u001b[1;32m---> 21\u001b[1;33m    \u001b[0mlinks\u001b[0m \u001b[1;33m=\u001b[0m   \u001b[1;33m[\u001b[0m\u001b[0murllib\u001b[0m\u001b[1;33m.\u001b[0m\u001b[0munquote_plus\u001b[0m\u001b[1;33m(\u001b[0m\u001b[0murl_pattern\u001b[0m\u001b[1;33m.\u001b[0m\u001b[0mfindall\u001b[0m\u001b[1;33m(\u001b[0m\u001b[0mx\u001b[0m\u001b[1;33m.\u001b[0m\u001b[0mfind\u001b[0m\u001b[1;33m(\u001b[0m\u001b[1;34m'a'\u001b[0m\u001b[1;33m)\u001b[0m\u001b[1;33m[\u001b[0m\u001b[1;34m'href'\u001b[0m\u001b[1;33m]\u001b[0m\u001b[1;33m)\u001b[0m\u001b[1;33m[\u001b[0m\u001b[1;36m0\u001b[0m\u001b[1;33m]\u001b[0m\u001b[1;33m)\u001b[0m \u001b[1;32mfor\u001b[0m \u001b[0mx\u001b[0m \u001b[1;32min\u001b[0m \u001b[0msoup\u001b[0m\u001b[1;33m.\u001b[0m\u001b[0mfind\u001b[0m\u001b[1;33m(\u001b[0m\u001b[1;34m'div'\u001b[0m\u001b[1;33m,\u001b[0m \u001b[0mid\u001b[0m\u001b[1;33m=\u001b[0m\u001b[1;34m'web'\u001b[0m\u001b[1;33m)\u001b[0m\u001b[1;33m.\u001b[0m\u001b[0mfindAll\u001b[0m\u001b[1;33m(\u001b[0m\u001b[1;34m'h3'\u001b[0m\u001b[1;33m)\u001b[0m\u001b[1;33m]\u001b[0m\u001b[1;33m\u001b[0m\u001b[0m\n\u001b[0m\u001b[0;32m     22\u001b[0m \u001b[1;33m\u001b[0m\u001b[0m\n\u001b[0;32m     23\u001b[0m    \u001b[1;32mreturn\u001b[0m \u001b[0mlinks\u001b[0m\u001b[1;33m\u001b[0m\u001b[0m\n",
      "\u001b[1;31mTypeError\u001b[0m: 'NoneType' object has no attribute '__getitem__'"
     ]
    }
   ],
   "source": [
    " \n",
    "from bs4 import BeautifulSoup\n",
    "try:\n",
    "    import urllib.request as urllib2\n",
    "except ImportError:\n",
    "    import urllib2\n",
    "import urllib\n",
    "import re\n",
    "\n",
    " \n",
    "def yahoo_grab(query):\n",
    " \n",
    "    address = \"http://search.yahoo.com/search?p=%s\" % (urllib.quote_plus(query))\n",
    "    request = urllib2.Request(address, None, {'User-Agent':'Mozilla/4.0 (compatible; MSIE 6.0; Windows NT 5.1)'} )\n",
    "    urlfile = urllib2.urlopen(request)\n",
    "    page = urlfile.read(200000)\n",
    "    urlfile.close()\n",
    " \n",
    "    soup = BeautifulSoup(page)\n",
    "    url_pattern = re.compile('/\\*\\*(.*)')\n",
    "    links =   [urllib.unquote_plus(url_pattern.findall(x.find('a')['href'])[0]) for x in soup.find('div', id='web').findAll('h3')]\n",
    " \n",
    "    return links\n",
    " \n",
    "if __name__=='__main__':\n",
    "    # Example: Search written to file\n",
    "    links = yahoo_grab('halotis')\n",
    "    print '\\n'.join(links)"
   ]
  },
  {
   "cell_type": "code",
   "execution_count": 1,
   "metadata": {},
   "outputs": [
    {
     "ename": "AttributeError",
     "evalue": "'NoneType' object has no attribute 'find_all'",
     "output_type": "error",
     "traceback": [
      "\u001b[1;31m---------------------------------------------------------------------------\u001b[0m",
      "\u001b[1;31mAttributeError\u001b[0m                            Traceback (most recent call last)",
      "\u001b[1;32m<ipython-input-1-b8bff4684eba>\u001b[0m in \u001b[0;36m<module>\u001b[1;34m()\u001b[0m\n\u001b[0;32m     11\u001b[0m \u001b[1;33m\u001b[0m\u001b[0m\n\u001b[0;32m     12\u001b[0m \u001b[1;31m# Pull text from all instances of <a> tag within BodyText div\u001b[0m\u001b[1;33m\u001b[0m\u001b[1;33m\u001b[0m\u001b[0m\n\u001b[1;32m---> 13\u001b[1;33m \u001b[0martist_name_list_items\u001b[0m \u001b[1;33m=\u001b[0m \u001b[0martist_name_list\u001b[0m\u001b[1;33m.\u001b[0m\u001b[0mfind_all\u001b[0m\u001b[1;33m(\u001b[0m\u001b[1;34m'a'\u001b[0m\u001b[1;33m)\u001b[0m\u001b[1;33m\u001b[0m\u001b[0m\n\u001b[0m",
      "\u001b[1;31mAttributeError\u001b[0m: 'NoneType' object has no attribute 'find_all'"
     ]
    }
   ],
   "source": [
    "import requests\n",
    "from bs4 import BeautifulSoup\n",
    "\n",
    "\n",
    "# Collect and parse first page\n",
    "page = requests.get('https://www.nga.gov/collection/anZ1.htm')\n",
    "soup = BeautifulSoup(page.text, 'html.parser')\n",
    "\n",
    "# Pull all text from the BodyText div\n",
    "artist_name_list = soup.find(class_='BodyText')\n",
    "\n",
    "# Pull text from all instances of <a> tag within BodyText div\n",
    "artist_name_list_items = artist_name_list.find_all('a')"
   ]
  },
  {
   "cell_type": "code",
   "execution_count": null,
   "metadata": {
    "collapsed": true
   },
   "outputs": [],
   "source": []
  }
 ],
 "metadata": {
  "kernelspec": {
   "display_name": "Python 2",
   "language": "python",
   "name": "python2"
  },
  "language_info": {
   "codemirror_mode": {
    "name": "ipython",
    "version": 2
   },
   "file_extension": ".py",
   "mimetype": "text/x-python",
   "name": "python",
   "nbconvert_exporter": "python",
   "pygments_lexer": "ipython2",
   "version": "2.7.14"
  }
 },
 "nbformat": 4,
 "nbformat_minor": 2
}
